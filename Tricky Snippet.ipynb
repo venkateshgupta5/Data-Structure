{
 "cells": [
  {
   "cell_type": "code",
   "execution_count": 5,
   "metadata": {},
   "outputs": [
    {
     "name": "stdout",
     "output_type": "stream",
     "text": [
      "('I is ', 6)\n",
      "7\n",
      "('I is ', 7)\n",
      "8\n",
      "('I is ', 0)\n",
      "1\n"
     ]
    }
   ],
   "source": [
    "for i in [6,7, 0]:\n",
    "    print(\"I is \",i)\n",
    "    print(i+1)"
   ]
  },
  {
   "cell_type": "code",
   "execution_count": 10,
   "metadata": {},
   "outputs": [
    {
     "name": "stdout",
     "output_type": "stream",
     "text": [
      "0\n",
      "2\n",
      "4\n",
      "6\n"
     ]
    }
   ],
   "source": [
    "\n",
    "for i in range(0,4):\n",
    "    print(i*2)\n",
    "    "
   ]
  },
  {
   "cell_type": "code",
   "execution_count": 13,
   "metadata": {},
   "outputs": [
    {
     "name": "stdout",
     "output_type": "stream",
     "text": [
      "0\n",
      "2\n",
      "4\n",
      "6\n",
      "Loop is Executed Normally\n"
     ]
    }
   ],
   "source": [
    "for i in range(0,4):\n",
    "    print(i*2)\n",
    "else:\n",
    "    print \"Loop is Executed Normally\"\n",
    "    "
   ]
  },
  {
   "cell_type": "code",
   "execution_count": 11,
   "metadata": {},
   "outputs": [
    {
     "name": "stdout",
     "output_type": "stream",
     "text": [
      "0\n",
      "2\n",
      "4\n",
      "6\n"
     ]
    }
   ],
   "source": [
    "for i in range(0,4):\n",
    "    print(i*2)\n",
    "    if(i==3):\n",
    "        break\n",
    "else:\n",
    "    print \"Executed Normally\"\n",
    "    "
   ]
  },
  {
   "cell_type": "code",
   "execution_count": 15,
   "metadata": {},
   "outputs": [
    {
     "name": "stdout",
     "output_type": "stream",
     "text": [
      "P Y T H O N\n"
     ]
    }
   ],
   "source": [
    "for char in 'PYTHON STRING':\n",
    "    if char == ' ':\n",
    "        break\n",
    "\n",
    "    print(char),\n",
    "  \n",
    "    if char == 'O':\n",
    "        continue"
   ]
  },
  {
   "cell_type": "code",
   "execution_count": 18,
   "metadata": {},
   "outputs": [
    {
     "name": "stdout",
     "output_type": "stream",
     "text": [
      "0\n",
      "----------\n",
      "1\n",
      "----------\n",
      "2\n",
      "----------\n",
      "3\n",
      "----------\n",
      "4\n",
      "----------\n",
      "5\n",
      "----------\n",
      "6\n",
      "----------\n"
     ]
    }
   ],
   "source": [
    "for i in range(0,7):\n",
    "    print(i)\n",
    "    pass\n",
    "    print(\"----------\")"
   ]
  },
  {
   "cell_type": "code",
   "execution_count": 24,
   "metadata": {},
   "outputs": [
    {
     "name": "stdout",
     "output_type": "stream",
     "text": [
      "Hello\n",
      "None\n"
     ]
    }
   ],
   "source": [
    "def printHello():\n",
    "    print(\"Hello\")   \n",
    "    \n",
    "a = printHello()\n",
    "print a"
   ]
  },
  {
   "cell_type": "code",
   "execution_count": 28,
   "metadata": {},
   "outputs": [
    {
     "name": "stdout",
     "output_type": "stream",
     "text": [
      "Hello\n",
      "6 Amit\n",
      "(6, 'Amit')\n",
      "94180799856912\n",
      "139975232420872\n"
     ]
    }
   ],
   "source": [
    "def printHello():\n",
    "    print(\"Hello\")   \n",
    "    return 6, 'Amit'\n",
    "a,b = printHello()\n",
    "print a,b\n",
    "print(a,b)\n",
    "print(id(a))\n",
    "print(id(printHello))"
   ]
  },
  {
   "cell_type": "code",
   "execution_count": 77,
   "metadata": {},
   "outputs": [
    {
     "name": "stdout",
     "output_type": "stream",
     "text": [
      "('a =', 56)\n",
      "('a =', 56)\n"
     ]
    }
   ],
   "source": [
    "def outerFunction():\n",
    "    global a\n",
    "    a = 40\n",
    "    print(a)\n",
    "    def innerFunction():\n",
    "        global a\n",
    "        a = 56\n",
    "        print('a =', a) \n",
    "a = 10\n",
    "#outerFunction()\n",
    "innerFunction()\n",
    "print('a =', a)"
   ]
  },
  {
   "cell_type": "code",
   "execution_count": null,
   "metadata": {},
   "outputs": [],
   "source": [
    "class Foo:\n",
    "    def printLine(self, line='Python'):\n",
    "        print(line)\n",
    "  \n",
    "o1 = Foo()\n",
    "o1.printLine('Java')"
   ]
  }
 ],
 "metadata": {
  "kernelspec": {
   "display_name": "Python 2",
   "language": "python",
   "name": "python2"
  },
  "language_info": {
   "codemirror_mode": {
    "name": "ipython",
    "version": 2
   },
   "file_extension": ".py",
   "mimetype": "text/x-python",
   "name": "python",
   "nbconvert_exporter": "python",
   "pygments_lexer": "ipython2",
   "version": "2.7.14"
  }
 },
 "nbformat": 4,
 "nbformat_minor": 2
}
