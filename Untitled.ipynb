{
 "cells": [
  {
   "cell_type": "code",
   "execution_count": null,
   "metadata": {},
   "outputs": [],
   "source": [
    "r : read\n",
    "w : write\n",
    "a : append\n",
    "    \n",
    "fo = open(\"Abc.txt\",\"r\")\n",
    "w = new file open\n",
    "a = existing file mein add"
   ]
  },
  {
   "cell_type": "markdown",
   "metadata": {},
   "source": [
    "fo = write(s)      .. after the next char\n",
    "fo = writeLine(s)  ..starts fron new line"
   ]
  },
  {
   "cell_type": "code",
   "execution_count": 3,
   "metadata": {},
   "outputs": [
    {
     "name": "stdout",
     "output_type": "stream",
     "text": [
      "<open file '/home/venkat/Desktop/Data Structure/abc.txt', mode 'r' at 0x7f7777765930>\n"
     ]
    }
   ],
   "source": [
    "fo = open('/home/venkat/Desktop/Data Structure/abc.txt','r')\n",
    "print(fo)\n"
   ]
  },
  {
   "cell_type": "code",
   "execution_count": 11,
   "metadata": {},
   "outputs": [],
   "source": [
    "fo1 = open('/home/venkat/Desktop/Data Structure/abc.txt','w')\n",
    "fo1.write('Hey There.What\\'s up.')\n",
    "fo1.write('Welcome')\n",
    "fo1.writelines('hedbbvhdevh')"
   ]
  },
  {
   "cell_type": "code",
   "execution_count": 15,
   "metadata": {},
   "outputs": [],
   "source": [
    "fo1 = open('/home/venkat/Desktop/Data Structure/abc.txt','w')\n",
    "L= ['ee','wdqwed','wdeqd','dqdqe']\n",
    "fo1.writelines(L)\n",
    "fo1.writelines(L)\n",
    "fo1.writelines(L)"
   ]
  }
 ],
 "metadata": {
  "kernelspec": {
   "display_name": "Python 2",
   "language": "python",
   "name": "python2"
  },
  "language_info": {
   "codemirror_mode": {
    "name": "ipython",
    "version": 2
   },
   "file_extension": ".py",
   "mimetype": "text/x-python",
   "name": "python",
   "nbconvert_exporter": "python",
   "pygments_lexer": "ipython2",
   "version": "2.7.14"
  }
 },
 "nbformat": 4,
 "nbformat_minor": 2
}
