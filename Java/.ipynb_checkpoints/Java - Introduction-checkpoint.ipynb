{
 "cells": [
  {
   "cell_type": "markdown",
   "metadata": {},
   "source": [
    "# Why is Java so popular?"
   ]
  },
  {
   "cell_type": "code",
   "execution_count": null,
   "metadata": {},
   "outputs": [],
   "source": [
    "Two reasons :- Platform Independence (build once somewhere on any OS, run anywhere on any OS.) \n",
    "Object Oriented Programming (maintainability of code is too high.)"
   ]
  },
  {
   "cell_type": "markdown",
   "metadata": {},
   "source": [
    "# What is jar file?\n",
    "\n"
   ]
  },
  {
   "cell_type": "code",
   "execution_count": null,
   "metadata": {},
   "outputs": [],
   "source": [
    "When java code that is in .java file gets compiled, \n",
    "it gets converted in .class files. That .class file is jar file."
   ]
  },
  {
   "cell_type": "markdown",
   "metadata": {},
   "source": [
    "# Why is Java Platform Independent?"
   ]
  },
  {
   "cell_type": "code",
   "execution_count": null,
   "metadata": {},
   "outputs": [],
   "source": [
    "Reason :- JVM (Java Virtual Machine). JVM converts source code into byte code. \n",
    "Note:- JVM of specific OS converts same byte code into different executable instructions for different OS."
   ]
  },
  {
   "cell_type": "markdown",
   "metadata": {},
   "source": [
    "# Does different OS have different JVM?"
   ]
  },
  {
   "cell_type": "code",
   "execution_count": null,
   "metadata": {},
   "outputs": [],
   "source": [
    "Yes. Note:- They all understand the same byte code generated and \n",
    "convert into executable instructions for different OS."
   ]
  },
  {
   "cell_type": "markdown",
   "metadata": {},
   "source": [
    "# Difference between JRE and JDK."
   ]
  },
  {
   "cell_type": "code",
   "execution_count": null,
   "metadata": {},
   "outputs": [],
   "source": [
    "JDK provides everything a developer needs — compile, jar, debugging tools. \n",
    "JRE provides run time environment to run the Java program.\n",
    "\n",
    "JDK >> JRE >> JVM"
   ]
  },
  {
   "cell_type": "markdown",
   "metadata": {},
   "source": [
    "# Difference between C++ and Java."
   ]
  },
  {
   "cell_type": "code",
   "execution_count": null,
   "metadata": {},
   "outputs": [],
   "source": [
    "Platform Independence. Java — Yes. — — — — → C++ isn’t.\n",
    "\n",
    "Purity of OOP’s nature in Java is high compared to C++.\n",
    "\n",
    "C++ has pointers. Java doesn’t have pointers.\n",
    "\n",
    "Allocation/de-allocation of memory is manual in C++.\n",
    "\n",
    "C++ supports multiple Inheritance. Java doesn’t."
   ]
  },
  {
   "cell_type": "markdown",
   "metadata": {},
   "source": [
    "# Why Java isn’t purely an Object Oriented Programming language.\n",
    "\n"
   ]
  },
  {
   "cell_type": "code",
   "execution_count": null,
   "metadata": {},
   "outputs": [],
   "source": [
    "It has primitive data types. Primitive data types aren’t objects."
   ]
  },
  {
   "cell_type": "markdown",
   "metadata": {},
   "source": [
    "# At higher level, what are the three types of classes in Java?"
   ]
  },
  {
   "cell_type": "code",
   "execution_count": null,
   "metadata": {},
   "outputs": [],
   "source": [
    "a. Created by you.\n",
    "\n",
    "b. Provided by Java framework (Spring, Struts)\n",
    "\n",
    "c. Provided by Java environment (Collection, System)"
   ]
  },
  {
   "cell_type": "markdown",
   "metadata": {},
   "source": [
    "# What is the use of class loader?"
   ]
  },
  {
   "cell_type": "code",
   "execution_count": null,
   "metadata": {},
   "outputs": [],
   "source": [
    "Class loader searches a class for us."
   ]
  },
  {
   "cell_type": "markdown",
   "metadata": {},
   "source": [
    "# What are the three types of class-loader?"
   ]
  },
  {
   "cell_type": "code",
   "execution_count": null,
   "metadata": {},
   "outputs": [],
   "source": [
    "System class loader (loads all files from class path — jar)\n",
    "\n",
    "Extension class loader — loads all from extension directory (jre/lib/ext)\n",
    "\n",
    "Bootstrap class loader — loads Java files."
   ]
  },
  {
   "cell_type": "markdown",
   "metadata": {},
   "source": [
    "# What is the order in which classes are searched in class-loader?"
   ]
  },
  {
   "cell_type": "code",
   "execution_count": null,
   "metadata": {},
   "outputs": [],
   "source": [
    "System class loader >> Extension class loader >> Bootstrap class loader"
   ]
  }
 ],
 "metadata": {
  "kernelspec": {
   "display_name": "Python 2",
   "language": "python",
   "name": "python2"
  },
  "language_info": {
   "codemirror_mode": {
    "name": "ipython",
    "version": 2
   },
   "file_extension": ".py",
   "mimetype": "text/x-python",
   "name": "python",
   "nbconvert_exporter": "python",
   "pygments_lexer": "ipython2",
   "version": "2.7.14"
  }
 },
 "nbformat": 4,
 "nbformat_minor": 2
}
