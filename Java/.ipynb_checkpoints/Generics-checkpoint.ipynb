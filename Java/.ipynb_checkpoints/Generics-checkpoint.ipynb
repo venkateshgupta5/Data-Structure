{
 "cells": [
  {
   "cell_type": "markdown",
   "metadata": {},
   "source": [
    "# What are Generics?"
   ]
  },
  {
   "cell_type": "code",
   "execution_count": null,
   "metadata": {},
   "outputs": [],
   "source": [
    "It helps to create generic methods and classes which are type dependent."
   ]
  },
  {
   "cell_type": "markdown",
   "metadata": {},
   "source": [
    "# Why do we need Generics? Can you give an example of how Generics make a program more flexible?"
   ]
  },
  {
   "cell_type": "code",
   "execution_count": null,
   "metadata": {},
   "outputs": [],
   "source": [
    "class MyList\n",
    "{\n",
    "    List<String> list = new List<String>();\n",
    "    \n",
    "    public void add(String s)\n",
    "    {\n",
    "        list.add(s);\n",
    "    }\n",
    "}"
   ]
  },
  {
   "cell_type": "markdown",
   "metadata": {},
   "source": [
    "MyList ls = new MyList();\n",
    "ls.add(\"Aman\")"
   ]
  },
  {
   "cell_type": "markdown",
   "metadata": {},
   "source": [
    "#### Only strings can be added"
   ]
  },
  {
   "cell_type": "code",
   "execution_count": null,
   "metadata": {},
   "outputs": [],
   "source": [
    "class MyList<T>\n",
    "{\n",
    "    List<T> list = new List<T>();\n",
    "    \n",
    "    public void add(T s)\n",
    "    {\n",
    "        list.add(s);\n",
    "    }\n",
    "}"
   ]
  },
  {
   "cell_type": "code",
   "execution_count": null,
   "metadata": {},
   "outputs": [],
   "source": [
    "MyList<String> list = new MyList<String>();\n",
    "list.add(\"aman\");\n",
    "\n",
    "MyList<Integer> list1 = new MyList<Integer>();\n",
    "list1.add(344);"
   ]
  },
  {
   "cell_type": "markdown",
   "metadata": {},
   "source": [
    "# How do you declare a generic class?"
   ]
  },
  {
   "cell_type": "code",
   "execution_count": null,
   "metadata": {},
   "outputs": [],
   "source": [
    "class genericClass<T>"
   ]
  },
  {
   "cell_type": "markdown",
   "metadata": {},
   "source": [
    "# What are the restrictions in using generic type that is declared in a class declaration?"
   ]
  },
  {
   "cell_type": "code",
   "execution_count": null,
   "metadata": {},
   "outputs": [],
   "source": [
    "If\ta\tgeneric\tis\tdeclared\tas\tpart\tof\tclass\tdeclaration,\tit\tcan\tbe\tused\n",
    "any\twhere\ta\ttype\tcan\tbe\tused\tin\ta\tclass\t\n",
    "-\t method\t (return\t type\t or\t argument),\t member\t variable\t etc."
   ]
  },
  {
   "cell_type": "markdown",
   "metadata": {},
   "source": [
    "# How can we restrict Generics to a subclass of particular class?"
   ]
  },
  {
   "cell_type": "code",
   "execution_count": null,
   "metadata": {},
   "outputs": [],
   "source": [
    "class MyRestrictedgenricclass<T extends Number>"
   ]
  },
  {
   "cell_type": "markdown",
   "metadata": {},
   "source": [
    "# How can we restrict Generics to a super class of particular class?"
   ]
  },
  {
   "cell_type": "code",
   "execution_count": null,
   "metadata": {},
   "outputs": [],
   "source": [
    "class restrictedgenrics<T super Number>"
   ]
  },
  {
   "cell_type": "markdown",
   "metadata": {},
   "source": [
    "# Can you give an example of a generic method?"
   ]
  },
  {
   "cell_type": "code",
   "execution_count": null,
   "metadata": {},
   "outputs": [],
   "source": [
    "static <X extends Number> X run(X number)\n",
    "{\n",
    "    X value = number;\n",
    "}"
   ]
  }
 ],
 "metadata": {
  "kernelspec": {
   "display_name": "Python 2",
   "language": "python",
   "name": "python2"
  },
  "language_info": {
   "codemirror_mode": {
    "name": "ipython",
    "version": 2
   },
   "file_extension": ".py",
   "mimetype": "text/x-python",
   "name": "python",
   "nbconvert_exporter": "python",
   "pygments_lexer": "ipython2",
   "version": "2.7.14"
  }
 },
 "nbformat": 4,
 "nbformat_minor": 2
}
