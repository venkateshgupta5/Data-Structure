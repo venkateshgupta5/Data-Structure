{
 "cells": [
  {
   "cell_type": "markdown",
   "metadata": {},
   "source": [
    "# Explain inheritance with examples ."
   ]
  },
  {
   "cell_type": "code",
   "execution_count": null,
   "metadata": {},
   "outputs": [],
   "source": [
    "Sub- class will inherit all the property of it's super class."
   ]
  },
  {
   "cell_type": "code",
   "execution_count": null,
   "metadata": {},
   "outputs": [],
   "source": [
    "public class Actor\n",
    "{\n",
    "    public void act()\n",
    "    {\n",
    "        System.out.println(\"Act\");\n",
    "    }\n",
    "}\n",
    "\n",
    "\n",
    "public class Hero extends Actor\n",
    "{\n",
    "    public void fight()\n",
    "    {\n",
    "        System.out.println(\"Fight\");\n",
    "    }\n",
    "}\n",
    "\n",
    "Hero h = new Hero();\n",
    "h.fight();\n",
    "h.act();"
   ]
  },
  {
   "cell_type": "markdown",
   "metadata": {},
   "source": [
    "# Inheritance in Java"
   ]
  },
  {
   "cell_type": "code",
   "execution_count": null,
   "metadata": {},
   "outputs": [],
   "source": [
    "Abstract Collection\n",
    "        ||\n",
    "        ||\n",
    "AbstractList\n",
    "        ||\n",
    "        ||\n",
    "ArrayList"
   ]
  },
  {
   "cell_type": "markdown",
   "metadata": {},
   "source": [
    "# What is method overloading?"
   ]
  },
  {
   "cell_type": "code",
   "execution_count": null,
   "metadata": {},
   "outputs": [],
   "source": [
    "Same name as another method (in same class or a sub class) \n",
    "but having different parameters"
   ]
  },
  {
   "cell_type": "code",
   "execution_count": null,
   "metadata": {},
   "outputs": [],
   "source": [
    "class Foo\n",
    "{\n",
    "    public void doIt(int n)\n",
    "    {\n",
    "        \n",
    "    }\n",
    "    \n",
    "    public void doIt(String n)\n",
    "    {\n",
    "        \n",
    "    }\n",
    "}"
   ]
  },
  {
   "cell_type": "markdown",
   "metadata": {},
   "source": [
    "# Can overloading be done from a sub class?"
   ]
  },
  {
   "cell_type": "code",
   "execution_count": null,
   "metadata": {},
   "outputs": [],
   "source": [
    "Yes."
   ]
  },
  {
   "cell_type": "code",
   "execution_count": null,
   "metadata": {},
   "outputs": [],
   "source": [
    "class Boo extends Foo\n",
    "{\n",
    "    public void doIt(int n, String s)\n",
    "    {\n",
    "        \n",
    "    }\n",
    "    \n",
    "}"
   ]
  },
  {
   "cell_type": "markdown",
   "metadata": {},
   "source": [
    "# What is method overriding?"
   ]
  },
  {
   "cell_type": "code",
   "execution_count": null,
   "metadata": {},
   "outputs": [],
   "source": [
    "Creating a Sub Class Method with same signature as that of a method in SuperClass is called Method\n",
    "Overriding."
   ]
  },
  {
   "cell_type": "code",
   "execution_count": null,
   "metadata": {},
   "outputs": [],
   "source": [
    "public class Animal\t{\n",
    "public String bark()\n",
    "    {\n",
    "return \"Don't Know!\";\n",
    "}\n",
    "}\n",
    "\n",
    "\n",
    "public class Cat extends Animal {}\n",
    "public String bark()\n",
    "    {\n",
    "return \"Meow Meow\";\n",
    "}\n",
    "}\n"
   ]
  },
  {
   "cell_type": "code",
   "execution_count": null,
   "metadata": {},
   "outputs": [],
   "source": [
    "Cat cat = new Cat();\n",
    "cat.bark();\n",
    "\n",
    "# Output :- Meow Meow"
   ]
  },
  {
   "cell_type": "markdown",
   "metadata": {},
   "source": [
    "# Can super class reference variable can hold an object of sub class?"
   ]
  },
  {
   "cell_type": "code",
   "execution_count": null,
   "metadata": {},
   "outputs": [],
   "source": [
    "Yes.\n",
    "\n",
    "Object obj = new Hero();\n",
    "or\n",
    "\n",
    "Animal cat = new Cat();"
   ]
  },
  {
   "cell_type": "markdown",
   "metadata": {},
   "source": [
    "# Is multiple inheritance allowed in Java?\n"
   ]
  },
  {
   "cell_type": "code",
   "execution_count": null,
   "metadata": {},
   "outputs": [],
   "source": [
    "No\n",
    "\n",
    "Car extends Vehicle, FourWheeler # ERROR"
   ]
  },
  {
   "cell_type": "markdown",
   "metadata": {},
   "source": [
    "# Is Hierarchical inheritance allowed in Java?"
   ]
  },
  {
   "cell_type": "code",
   "execution_count": null,
   "metadata": {},
   "outputs": [],
   "source": [
    "Yes.\n",
    "\n",
    "comedian extends hero\n",
    "\n",
    "hero extends actor"
   ]
  },
  {
   "cell_type": "code",
   "execution_count": null,
   "metadata": {},
   "outputs": [],
   "source": []
  }
 ],
 "metadata": {
  "kernelspec": {
   "display_name": "Python 2",
   "language": "python",
   "name": "python2"
  },
  "language_info": {
   "codemirror_mode": {
    "name": "ipython",
    "version": 2
   },
   "file_extension": ".py",
   "mimetype": "text/x-python",
   "name": "python",
   "nbconvert_exporter": "python",
   "pygments_lexer": "ipython2",
   "version": "2.7.14"
  }
 },
 "nbformat": 4,
 "nbformat_minor": 2
}
