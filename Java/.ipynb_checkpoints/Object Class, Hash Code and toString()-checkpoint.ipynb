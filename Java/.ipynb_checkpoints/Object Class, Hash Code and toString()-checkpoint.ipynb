{
 "cells": [
  {
   "cell_type": "markdown",
   "metadata": {},
   "source": [
    "# What is a class?"
   ]
  },
  {
   "cell_type": "code",
   "execution_count": null,
   "metadata": {},
   "outputs": [],
   "source": [
    "Class is a blueprint or prototype in Java.\n",
    "Class is a template.\n",
    "By using this template, we can create n objects.\n",
    "\n",
    "Class defines the state and behaviour of an object."
   ]
  },
  {
   "cell_type": "markdown",
   "metadata": {},
   "source": [
    "# What is an object?"
   ]
  },
  {
   "cell_type": "code",
   "execution_count": null,
   "metadata": {},
   "outputs": [],
   "source": [
    "Objects are the instances of the class.\n",
    "\n",
    "CricketScorer cricscorer = new CricketScorer();\n",
    "\n",
    "'cricscorer is an object"
   ]
  },
  {
   "cell_type": "markdown",
   "metadata": {},
   "source": [
    "# What is state of an object?"
   ]
  },
  {
   "cell_type": "code",
   "execution_count": null,
   "metadata": {},
   "outputs": [],
   "source": [
    "It's the value that the instance variable have a particular instance of time.\n",
    "\n",
    "Instance variable constitute state of the object."
   ]
  },
  {
   "cell_type": "code",
   "execution_count": null,
   "metadata": {},
   "outputs": [],
   "source": [
    "\tscorer.six();\n",
    "\t\t\t\t\t\t\t\t//State\tof\tscorer\tis\t(score\t=>\t6)\n",
    "\tscorer.four();\n",
    "\t\t\t\t\t\t\t\t//State\tof\tscorer\tis\t(score\t=>\t10)"
   ]
  },
  {
   "cell_type": "markdown",
   "metadata": {},
   "source": [
    "# What is behavior of an object?\n"
   ]
  },
  {
   "cell_type": "code",
   "execution_count": null,
   "metadata": {},
   "outputs": [],
   "source": [
    "Methods represent the behaviour of an object.\n",
    "\n",
    "Six(), Four() method increases the value of scorer object by 4 and 6."
   ]
  },
  {
   "cell_type": "markdown",
   "metadata": {},
   "source": [
    "# What is the super class of every class in Java?"
   ]
  },
  {
   "cell_type": "code",
   "execution_count": null,
   "metadata": {},
   "outputs": [],
   "source": [
    "Object Class"
   ]
  },
  {
   "cell_type": "code",
   "execution_count": null,
   "metadata": {},
   "outputs": [],
   "source": [
    "# When we create a class we inherit all the methods\n",
    "# and properties of Object class"
   ]
  },
  {
   "cell_type": "markdown",
   "metadata": {},
   "source": [
    "# Explain about toString method ?"
   ]
  },
  {
   "cell_type": "code",
   "execution_count": null,
   "metadata": {},
   "outputs": [],
   "source": [
    "toString method is used to print the content of an Object."
   ]
  },
  {
   "cell_type": "markdown",
   "metadata": {},
   "source": [
    "# What happens without toString() method?"
   ]
  },
  {
   "cell_type": "code",
   "execution_count": null,
   "metadata": {},
   "outputs": [],
   "source": [
    " If the toString method is not overridden in a\n",
    "class, the default toString method from Object class is invoked. This would print some hashcode as\n",
    "shown in the example below."
   ]
  },
  {
   "cell_type": "code",
   "execution_count": null,
   "metadata": {},
   "outputs": [],
   "source": [
    "class Animal\t{\n",
    "public Animal(String\tname,\tString\ttype)\t\n",
    "    this.name =\tname;\n",
    "\tthis.type =\ttype;\n",
    "}\n",
    "String\tname;\n",
    "String\ttype;\n",
    "}\n",
    "\n",
    "Run this piece of code:\n",
    "Animal\tanimal\t=\tnew Animal(\"Tommy\",\t\"Dog\");\n",
    "System.out.println(animal);"
   ]
  },
  {
   "cell_type": "markdown",
   "metadata": {},
   "source": [
    "### Output :- Animal@f7e6a96"
   ]
  },
  {
   "cell_type": "markdown",
   "metadata": {},
   "source": [
    "# What happens after adding toString() method?"
   ]
  },
  {
   "cell_type": "code",
   "execution_count": null,
   "metadata": {},
   "outputs": [],
   "source": [
    "class Animal{\n",
    "\n",
    "public Animal(String name, String type){\n",
    "    this.name =\tname;\n",
    "    this.type =\ttype;\n",
    "}\n",
    "String\tname;\n",
    "String\ttype;\n",
    "public String toString()\n",
    "return \"Animal\t[name=\" + name + \",\ttype=\" +type+\"]\";\n",
    "}\n",
    "}\n",
    "Run this piece of code:\n",
    "Animal animal =\tnew Animal(\"Tommy\",\"Dog\");\n",
    "System.out.println(animal);"
   ]
  },
  {
   "cell_type": "markdown",
   "metadata": {},
   "source": [
    "# What is the use of equals method in Java?"
   ]
  },
  {
   "cell_type": "markdown",
   "metadata": {},
   "source": [
    "Equals method is used when we compare two objects"
   ]
  },
  {
   "cell_type": "markdown",
   "metadata": {},
   "source": [
    "# What is the default implementation of equals()?"
   ]
  },
  {
   "cell_type": "code",
   "execution_count": null,
   "metadata": {},
   "outputs": [],
   "source": [
    "Default implementation of equals method is\n",
    "defined in Object class. \n",
    "The implementation is similar to == operator. \n",
    "\n",
    "Two object references are equal\n",
    "only if they are pointing to the same object.\n",
    "We need to override equals method, if we would want to compare the contents of an object."
   ]
  },
  {
   "cell_type": "markdown",
   "metadata": {},
   "source": [
    "# Example"
   ]
  },
  {
   "cell_type": "code",
   "execution_count": null,
   "metadata": {},
   "outputs": [],
   "source": [
    "class Client{\n",
    "private int id;\n",
    "public Client(int id){\n",
    "this.id =\tid;\n",
    "}\n",
    "}\n",
    "== comparison operator checks if the object references are pointing to the same object. It does NOT look\n",
    "at the content of the object.\n",
    "Client client1 =new Client(25);\n",
    "Client client2 =new Client(25);\n",
    "Client client3 =client1;"
   ]
  },
  {
   "cell_type": "code",
   "execution_count": null,
   "metadata": {},
   "outputs": [],
   "source": [
    "System.out.println(client1==client2);\n"
   ]
  },
  {
   "cell_type": "code",
   "execution_count": null,
   "metadata": {},
   "outputs": [],
   "source": [
    "#client3 and client1\trefer\tto\tthe\tsame\tclient\tobjects.\n",
    "System.out.println(client1\t==\tclient3);//true\n"
   ]
  },
  {
   "cell_type": "code",
   "execution_count": null,
   "metadata": {},
   "outputs": [],
   "source": [
    "#similar output to==\n",
    "System.out.println(client1.equals(client2));//false\n",
    "System.out.println(client1.equals(client3));//true"
   ]
  },
  {
   "cell_type": "markdown",
   "metadata": {},
   "source": [
    "# Equals() Method"
   ]
  },
  {
   "cell_type": "code",
   "execution_count": null,
   "metadata": {},
   "outputs": [],
   "source": [
    "We need to override the equals method of the object class to compare two objects.\n",
    "\n",
    "Else it would compare object references of two objects."
   ]
  },
  {
   "cell_type": "code",
   "execution_count": null,
   "metadata": {},
   "outputs": [],
   "source": [
    "@Override\n",
    "public boolean equals(Object obj){\n",
    "Client\tother =(Client) obj;\n",
    "if (id !=\tother.id)\n",
    "return false;\n",
    "return true;"
   ]
  },
  {
   "cell_type": "markdown",
   "metadata": {},
   "source": [
    "# What are the important things to consider when implementing equals method?"
   ]
  },
  {
   "cell_type": "code",
   "execution_count": null,
   "metadata": {},
   "outputs": [],
   "source": [
    "1. Reflexive :- x.equals(x)\n",
    "2. Symetric :- x.equals(y) is equal to y.equals(x)\n",
    "3. Transitive :- x.equals(y) and y.equals(z) so x.equals(z)\n",
    "4. For any null ref of x, must return false\n",
    " x.equals(null)\n",
    "# False"
   ]
  },
  {
   "cell_type": "markdown",
   "metadata": {},
   "source": [
    "# What is the Hashcode method used for in Java?"
   ]
  },
  {
   "cell_type": "code",
   "execution_count": null,
   "metadata": {},
   "outputs": [],
   "source": [
    "Evenly distributes objects into groups."
   ]
  }
 ],
 "metadata": {
  "kernelspec": {
   "display_name": "Python 2",
   "language": "python",
   "name": "python2"
  },
  "language_info": {
   "codemirror_mode": {
    "name": "ipython",
    "version": 2
   },
   "file_extension": ".py",
   "mimetype": "text/x-python",
   "name": "python",
   "nbconvert_exporter": "python",
   "pygments_lexer": "ipython2",
   "version": "2.7.14"
  }
 },
 "nbformat": 4,
 "nbformat_minor": 2
}
