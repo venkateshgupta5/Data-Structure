{
 "cells": [
  {
   "cell_type": "markdown",
   "metadata": {},
   "source": [
    "# What is an interface?"
   ]
  },
  {
   "cell_type": "code",
   "execution_count": null,
   "metadata": {},
   "outputs": [],
   "source": [
    "An interface defines a contract for responsibilities of a class."
   ]
  },
  {
   "cell_type": "markdown",
   "metadata": {},
   "source": [
    "# How do you define interface?"
   ]
  },
  {
   "cell_type": "code",
   "execution_count": null,
   "metadata": {},
   "outputs": [],
   "source": [
    "public abstract interface Flyable\n",
    "{\n",
    "    public abstract void fly();\n",
    "}"
   ]
  },
  {
   "cell_type": "code",
   "execution_count": null,
   "metadata": {},
   "outputs": [],
   "source": [
    "# Note :- public and abstract are not necessary."
   ]
  },
  {
   "cell_type": "markdown",
   "metadata": {},
   "source": [
    "# How do you implement an interface?"
   ]
  },
  {
   "cell_type": "code",
   "execution_count": null,
   "metadata": {},
   "outputs": [],
   "source": [
    "public class Aeroplane implements Flyable\n",
    "{\n",
    "    @override\n",
    "    public void fly()\n",
    "    {\n",
    "        System.out.println(\"Bird Flys\")\n",
    "    }\n",
    "}"
   ]
  },
  {
   "cell_type": "markdown",
   "metadata": {},
   "source": [
    "# Can you explain a few tricky things about interfaces?\n"
   ]
  },
  {
   "cell_type": "code",
   "execution_count": null,
   "metadata": {},
   "outputs": [],
   "source": [
    "Variables in an interface are always public, static and final.\n",
    "It cant be private."
   ]
  },
  {
   "cell_type": "code",
   "execution_count": null,
   "metadata": {},
   "outputs": [],
   "source": [
    "interface ExampleInterface1 {\n",
    "//By default public, static and final. No other modifier is allowed.\n",
    "//value1,value2,value3,value4 are all -> public, static and final.\n",
    "\n",
    "    int value1 = 20\n",
    "    public int value2 = 34\n",
    "    public static int value3 = 334\n",
    "    public static final int value4 = 4454"
   ]
  },
  {
   "cell_type": "markdown",
   "metadata": {},
   "source": [
    "# What is the nature of an interface methods?"
   ]
  },
  {
   "cell_type": "code",
   "execution_count": null,
   "metadata": {},
   "outputs": [],
   "source": [
    "It is by nature public and abstract."
   ]
  },
  {
   "cell_type": "markdown",
   "metadata": {},
   "source": [
    "# Can a concerete method be implemented in Interfaces?"
   ]
  },
  {
   "cell_type": "code",
   "execution_count": null,
   "metadata": {},
   "outputs": [],
   "source": [
    "Yes, from JAVA 8."
   ]
  },
  {
   "cell_type": "markdown",
   "metadata": {},
   "source": [
    "# How can concrete method be implemented in Interfaces?"
   ]
  },
  {
   "cell_type": "code",
   "execution_count": null,
   "metadata": {},
   "outputs": [],
   "source": [
    "By using default keyword."
   ]
  },
  {
   "cell_type": "code",
   "execution_count": null,
   "metadata": {},
   "outputs": [],
   "source": [
    "public abstract Interface interfaceName\n",
    "{\n",
    "    public void method1();  # Runs Fine\n",
    "    \n",
    "    public void run()     # Error\n",
    "    {\n",
    "        System.out.println();\n",
    "    }\n",
    "    \n",
    "    '''default void run()     # Concrete Method\n",
    "    {\n",
    "        System.out.println();\n",
    "    }'''\n",
    "}"
   ]
  },
  {
   "cell_type": "markdown",
   "metadata": {},
   "source": [
    "# Can you extend an interface?"
   ]
  },
  {
   "cell_type": "code",
   "execution_count": null,
   "metadata": {},
   "outputs": [],
   "source": [
    "Yes. An interface can extend an interface."
   ]
  },
  {
   "cell_type": "code",
   "execution_count": null,
   "metadata": {},
   "outputs": [],
   "source": [
    "interface namedasOne extends interfaceTwo\n",
    "{\n",
    "    \n",
    "}"
   ]
  },
  {
   "cell_type": "code",
   "execution_count": null,
   "metadata": {},
   "outputs": [],
   "source": [
    "Class implementing namedasOne should implement all the methods of namedasOne as well as interfaceTwo."
   ]
  },
  {
   "cell_type": "markdown",
   "metadata": {},
   "source": [
    "# Can a interface extend a class?"
   ]
  },
  {
   "cell_type": "code",
   "execution_count": null,
   "metadata": {},
   "outputs": [],
   "source": [
    "No"
   ]
  },
  {
   "cell_type": "markdown",
   "metadata": {},
   "source": [
    "# Can a class extend multiple interfaces?"
   ]
  },
  {
   "cell_type": "code",
   "execution_count": null,
   "metadata": {},
   "outputs": [],
   "source": [
    "We can say yes but it actually impelements multiple interfaces."
   ]
  },
  {
   "cell_type": "markdown",
   "metadata": {},
   "source": [
    "# Can a class implement multiple interfaces?"
   ]
  },
  {
   "cell_type": "code",
   "execution_count": null,
   "metadata": {},
   "outputs": [],
   "source": [
    "Yes"
   ]
  },
  {
   "cell_type": "code",
   "execution_count": null,
   "metadata": {},
   "outputs": [],
   "source": [
    "class Sample implements interfaceOne, interfaceTwo\n",
    "\n",
    "\n",
    "# Sample class implements all the methods of interfaceOne, interfaceTwo"
   ]
  },
  {
   "cell_type": "markdown",
   "metadata": {},
   "source": [
    "# Give an example from Java?"
   ]
  },
  {
   "cell_type": "code",
   "execution_count": null,
   "metadata": {},
   "outputs": [],
   "source": [
    "HashMap interface implements Map and Seriaziable interfaces in Java."
   ]
  },
  {
   "cell_type": "markdown",
   "metadata": {},
   "source": [
    "# What is Abstract Class?"
   ]
  },
  {
   "cell_type": "code",
   "execution_count": null,
   "metadata": {},
   "outputs": [],
   "source": [
    "A class that can't be instantiated.\n",
    "An abstract class must be inherited."
   ]
  },
  {
   "cell_type": "markdown",
   "metadata": {},
   "source": [
    "# What is Abstract Method?"
   ]
  },
  {
   "cell_type": "code",
   "execution_count": null,
   "metadata": {},
   "outputs": [],
   "source": [
    "An abstract method doesn't have any body.\n",
    "It doesn't have any implementation.'\n",
    "It can only be defined in an abstract class.\n",
    "\n",
    "abstract class Venky\n",
    "{\n",
    "    abstract void skills();\n",
    "}"
   ]
  },
  {
   "cell_type": "markdown",
   "metadata": {},
   "source": [
    "# Can an abstract method be defined in normal classes?"
   ]
  },
  {
   "cell_type": "code",
   "execution_count": null,
   "metadata": {},
   "outputs": [],
   "source": [
    "No\n",
    "\n",
    "public class Venky\n",
    "{\n",
    "    abstract void skills(); #ERROR\n",
    "}"
   ]
  },
  {
   "cell_type": "markdown",
   "metadata": {},
   "source": [
    "#  Compare abstract class vs interface?"
   ]
  },
  {
   "cell_type": "code",
   "execution_count": null,
   "metadata": {},
   "outputs": [],
   "source": [
    "Syntactical difference.\n",
    "\n",
    "Methods and variables of an abstract class can have any access specifier\n",
    "but methods and variables of interface are always public."
   ]
  },
  {
   "cell_type": "markdown",
   "metadata": {},
   "source": [
    "# What is Constructor?"
   ]
  },
  {
   "cell_type": "code",
   "execution_count": null,
   "metadata": {},
   "outputs": [],
   "source": [
    "Constructor is invoked whenever we create an instance (object) of a class.\n",
    "We cannot create an object without constructor."
   ]
  },
  {
   "cell_type": "code",
   "execution_count": null,
   "metadata": {},
   "outputs": [],
   "source": [
    "Constructor has the same name as the class and no return type. \n",
    "It can accept any number of parameters."
   ]
  },
  {
   "cell_type": "code",
   "execution_count": null,
   "metadata": {},
   "outputs": [],
   "source": [
    "class Animal\n",
    "{\n",
    "    Animal(String name)\n",
    "    {\n",
    "        this.name = name\n",
    "    }\n",
    "    void main(String args[])\n",
    "    {\n",
    "        Animal animal = new Animal(\"Dog\");\n",
    "    }\n",
    "}"
   ]
  },
  {
   "cell_type": "markdown",
   "metadata": {},
   "source": [
    "# What is default constructor?"
   ]
  },
  {
   "cell_type": "code",
   "execution_count": null,
   "metadata": {},
   "outputs": [],
   "source": [
    "Default Constructor is the constructor that is provided by the compiler. \n",
    "It has no arguments. \n",
    "In the example below, there are no Constructors defined in the Animal class. \n",
    "Compiler provides us with a\n",
    "default constructor, which helps us create an instance of animal class."
   ]
  },
  {
   "cell_type": "code",
   "execution_count": null,
   "metadata": {},
   "outputs": [],
   "source": [
    "class Animal\n",
    "{\n",
    "    String name;\n",
    "    void main(String args[])\n",
    "    {\n",
    "        Animal animal = new Animal();\n",
    "    }\n",
    "}"
   ]
  },
  {
   "cell_type": "markdown",
   "metadata": {},
   "source": [
    "# Will this code compile?"
   ]
  },
  {
   "cell_type": "code",
   "execution_count": null,
   "metadata": {},
   "outputs": [],
   "source": [
    "class Animal\n",
    "{\n",
    "    String name;\n",
    "    \n",
    "    Animal()\n",
    "    {\n",
    "        this.name = \"Default\"\n",
    "    }\n",
    "    Animal(String name)\n",
    "    {\n",
    "        this.name = name\n",
    "    }\n",
    "    void main(String args[])\n",
    "    {\n",
    "        Animal animal = new Animal();\n",
    "    }\n",
    "}"
   ]
  },
  {
   "cell_type": "code",
   "execution_count": null,
   "metadata": {},
   "outputs": [],
   "source": [
    "Answer is No.\n",
    "Since we already provided a constructor, compiler will not provide default constructor."
   ]
  },
  {
   "cell_type": "markdown",
   "metadata": {},
   "source": [
    "# How do you call a super class constructor from a constructor?"
   ]
  },
  {
   "cell_type": "code",
   "execution_count": null,
   "metadata": {},
   "outputs": [],
   "source": [
    "A constructor can call the constructor of a super class using the super() method call. \n",
    "Only constraint is that it should be the first statement."
   ]
  },
  {
   "cell_type": "code",
   "execution_count": null,
   "metadata": {},
   "outputs": [],
   "source": [
    "public Animal\n",
    "{\n",
    "    super();\n",
    "    this.name = \"Default name\"\n",
    "}"
   ]
  },
  {
   "cell_type": "markdown",
   "metadata": {},
   "source": [
    "# Will this code run?"
   ]
  },
  {
   "cell_type": "code",
   "execution_count": null,
   "metadata": {},
   "outputs": [],
   "source": [
    "public Animal\n",
    "{\n",
    "    this.name = \"Default name;\n",
    "    super();\n",
    "}"
   ]
  },
  {
   "cell_type": "code",
   "execution_count": null,
   "metadata": {},
   "outputs": [],
   "source": [
    "No"
   ]
  },
  {
   "cell_type": "markdown",
   "metadata": {},
   "source": [
    "# What is the use of this()?"
   ]
  },
  {
   "cell_type": "code",
   "execution_count": null,
   "metadata": {},
   "outputs": [],
   "source": [
    "Another constructor in the same class can be invoked using this() method call.\n",
    "\n",
    "public Animal()\n",
    "{\n",
    "    this(\"Default Name\")\n",
    "    \n",
    "}\n",
    "\n",
    "public Animal()\n",
    "{\n",
    "    this.name = name;\n",
    "    \n",
    "}"
   ]
  },
  {
   "cell_type": "markdown",
   "metadata": {},
   "source": [
    "# Can a constructor be called directly from a method?"
   ]
  },
  {
   "cell_type": "code",
   "execution_count": null,
   "metadata": {},
   "outputs": [],
   "source": [
    "No. A method cannot call another constructor.\n",
    "A constructor can call another constructor though."
   ]
  },
  {
   "cell_type": "code",
   "execution_count": null,
   "metadata": {},
   "outputs": [],
   "source": [
    "class Animal {\n",
    "String name;\n",
    "\n",
    "public Animal() {}\n",
    "\n",
    "}\n",
    "public method() {\n",
    "Animal();//Compiler\terror\n",
    "}\n",
    "}"
   ]
  },
  {
   "cell_type": "markdown",
   "metadata": {},
   "source": [
    "# Is a super class constructor called even when there is no explicit call from a sub class constructor?"
   ]
  },
  {
   "cell_type": "code",
   "execution_count": null,
   "metadata": {},
   "outputs": [],
   "source": [
    "If a super class constructor is not explicitly called from a sub class constructor, super class (no argument)\n",
    "constructor is automatically invoked (as first line) from a sub class constructor."
   ]
  },
  {
   "cell_type": "code",
   "execution_count": null,
   "metadata": {},
   "outputs": [],
   "source": [
    "class Animal {\n",
    "public Animal() {\n",
    "System.out.println(\"Animal Constructor\");\n",
    "}\n",
    "}\n",
    "\n",
    "class\tDog\textends\tAnimal {\n",
    "public\tDog() {\n",
    "System.out.println(\"Dog Constructor\");\n",
    "}\n",
    "}\n",
    "\n",
    "class Labrador extends Dog {\n",
    "public Labrador() {\n",
    "System.out.println(\"Labrador Constructor\");\n",
    "}\n",
    "}\n",
    "\n",
    "public class ConstructorExamples {\n",
    "public static void main(String[]\targs) {\n",
    "Labrador labrador = new Labrador();\n",
    "}\n",
    "}\n",
    "Program\tOutput\t\n",
    "Animal Constructor\n",
    "Dog Constructor\n",
    "Labrador Constructor"
   ]
  }
 ],
 "metadata": {
  "kernelspec": {
   "display_name": "Python 2",
   "language": "python",
   "name": "python2"
  },
  "language_info": {
   "codemirror_mode": {
    "name": "ipython",
    "version": 2
   },
   "file_extension": ".py",
   "mimetype": "text/x-python",
   "name": "python",
   "nbconvert_exporter": "python",
   "pygments_lexer": "ipython2",
   "version": "2.7.14"
  }
 },
 "nbformat": 4,
 "nbformat_minor": 2
}
