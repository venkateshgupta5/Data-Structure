{
 "cells": [
  {
   "cell_type": "markdown",
   "metadata": {},
   "source": [
    "# Why is Java so popular?"
   ]
  },
  {
   "cell_type": "code",
   "execution_count": null,
   "metadata": {},
   "outputs": [],
   "source": [
    "Two reasons :- Platform Independence (build once somewhere on any OS, run anywhere on any OS.) \n",
    "Object Oriented Programming (maintainability of code is too high.)"
   ]
  },
  {
   "cell_type": "markdown",
   "metadata": {},
   "source": [
    "# What is jar file?\n",
    "\n"
   ]
  },
  {
   "cell_type": "code",
   "execution_count": null,
   "metadata": {},
   "outputs": [],
   "source": [
    "When java code that is in .java file gets compiled, \n",
    "it gets converted in .class files. That .class file is jar file."
   ]
  },
  {
   "cell_type": "markdown",
   "metadata": {},
   "source": [
    "# Why is Java Platform Independent?"
   ]
  },
  {
   "cell_type": "code",
   "execution_count": null,
   "metadata": {},
   "outputs": [],
   "source": [
    "Reason :- JVM (Java Virtual Machine). JVM converts source code into byte code. \n",
    "Note:- JVM of specific OS converts same byte code into different executable instructions for different OS."
   ]
  },
  {
   "cell_type": "markdown",
   "metadata": {},
   "source": [
    "# Does different OS have different JVM?"
   ]
  },
  {
   "cell_type": "code",
   "execution_count": null,
   "metadata": {},
   "outputs": [],
   "source": [
    "Yes. Note:- They all understand the same byte code generated and \n",
    "convert into executable instructions for different OS."
   ]
  },
  {
   "cell_type": "markdown",
   "metadata": {},
   "source": [
    "# Difference between JRE and JDK."
   ]
  },
  {
   "cell_type": "code",
   "execution_count": null,
   "metadata": {},
   "outputs": [],
   "source": [
    "JDK provides everything a developer needs — compile, jar, debugging tools. \n",
    "JRE provides run time environment to run the Java program.\n",
    "\n",
    "JDK >> JRE >> JVM"
   ]
  },
  {
   "cell_type": "markdown",
   "metadata": {},
   "source": [
    "# Difference between C++ and Java."
   ]
  },
  {
   "cell_type": "code",
   "execution_count": null,
   "metadata": {},
   "outputs": [],
   "source": [
    "Platform Independence. Java — Yes. — — — — → C++ isn’t.\n",
    "\n",
    "Purity of OOP’s nature in Java is high compared to C++.\n",
    "\n",
    "C++ has pointers. Java doesn’t have pointers.\n",
    "\n",
    "Allocation/de-allocation of memory is manual in C++.\n",
    "\n",
    "C++ supports multiple Inheritance. Java doesn’t."
   ]
  },
  {
   "cell_type": "markdown",
   "metadata": {},
   "source": [
    "# Why Java isn’t purely an Object Oriented Programming language.\n",
    "\n"
   ]
  },
  {
   "cell_type": "code",
   "execution_count": null,
   "metadata": {},
   "outputs": [],
   "source": [
    "It has primitive data types. Primitive data types aren’t objects."
   ]
  },
  {
   "cell_type": "markdown",
   "metadata": {},
   "source": [
    "# At higher level, what are the three types of classes in Java?"
   ]
  },
  {
   "cell_type": "code",
   "execution_count": null,
   "metadata": {},
   "outputs": [],
   "source": [
    "a. Created by you.\n",
    "\n",
    "b. Provided by Java framework (Spring, Struts)\n",
    "\n",
    "c. Provided by Java environment (Collection, System)"
   ]
  },
  {
   "cell_type": "markdown",
   "metadata": {},
   "source": [
    "# What is the use of class loader?"
   ]
  },
  {
   "cell_type": "code",
   "execution_count": null,
   "metadata": {},
   "outputs": [],
   "source": [
    "Class loader searches a class for us."
   ]
  },
  {
   "cell_type": "markdown",
   "metadata": {},
   "source": [
    "# What are the three types of class-loader?"
   ]
  },
  {
   "cell_type": "code",
   "execution_count": null,
   "metadata": {},
   "outputs": [],
   "source": [
    "System class loader (loads all files from class path — jar)\n",
    "\n",
    "Extension class loader — loads all from extension directory (jre/lib/ext)\n",
    "\n",
    "Bootstrap class loader — loads Java files."
   ]
  },
  {
   "cell_type": "markdown",
   "metadata": {},
   "source": [
    "# What is the order in which classes are searched in class-loader?"
   ]
  },
  {
   "cell_type": "code",
   "execution_count": null,
   "metadata": {},
   "outputs": [],
   "source": [
    "System class loader >> Extension class loader >> Bootstrap class loader"
   ]
  },
  {
   "cell_type": "markdown",
   "metadata": {},
   "source": [
    "# What are Wrapper classes?\n"
   ]
  },
  {
   "cell_type": "code",
   "execution_count": null,
   "metadata": {},
   "outputs": [],
   "source": [
    "Wraps the primitive data type and gives it the appearance of objects."
   ]
  },
  {
   "cell_type": "markdown",
   "metadata": {},
   "source": [
    "# Why do we need Wrapper classes in Java?"
   ]
  },
  {
   "cell_type": "code",
   "execution_count": null,
   "metadata": {},
   "outputs": [],
   "source": [
    "a) Primitive data types cannot hold null values. \n",
    "b) Collections don’t use primitive data types. \n",
    "c) helps in creating objects from other type. ( Integer n = new Integer(“55”));"
   ]
  },
  {
   "cell_type": "markdown",
   "metadata": {},
   "source": [
    "# What are the different ways of creating Wrapper class instances?"
   ]
  },
  {
   "cell_type": "code",
   "execution_count": null,
   "metadata": {},
   "outputs": [],
   "source": [
    "a. 'Wrapper Class constructor\n",
    "Character c = new Character(“s”);\n",
    "Integer n = new Integer(“34”);\n",
    "\n",
    "\n",
    "b. 'valueOf function\n",
    "Integer n = Integer.valueOf(“55”);"
   ]
  },
  {
   "cell_type": "markdown",
   "metadata": {},
   "source": [
    "# What are differences in the two ways of creating Wrapper classes?\n",
    "\n"
   ]
  },
  {
   "cell_type": "code",
   "execution_count": null,
   "metadata": {},
   "outputs": [],
   "source": [
    "a. Every time a new object is created. More memory is used.\n",
    "\n",
    "b. caches the set of objects and reuses them. Memory saving.\n"
   ]
  },
  {
   "cell_type": "markdown",
   "metadata": {},
   "source": [
    "# What is auto boxing?"
   ]
  },
  {
   "cell_type": "markdown",
   "metadata": {},
   "source": [
    "Integer n = 65 //Auto-Boxing\n",
    "\n",
    "Integer n = new Integer(65); // Boxing\n"
   ]
  },
  {
   "cell_type": "markdown",
   "metadata": {},
   "source": [
    "# What are the advantages of auto boxing?"
   ]
  },
  {
   "cell_type": "code",
   "execution_count": null,
   "metadata": {},
   "outputs": [],
   "source": [
    "Uses valueOf method. Caches the set of objects and reuses the memory."
   ]
  },
  {
   "cell_type": "markdown",
   "metadata": {},
   "source": [
    "#  What is implicit casting?"
   ]
  },
  {
   "cell_type": "code",
   "execution_count": null,
   "metadata": {},
   "outputs": [],
   "source": [
    "int n = 659;\n",
    "long l = n;\n",
    "Storing smaller values in large variable type. "
   ]
  },
  {
   "cell_type": "markdown",
   "metadata": {},
   "source": [
    "# What is explicit casting?"
   ]
  },
  {
   "cell_type": "code",
   "execution_count": null,
   "metadata": {},
   "outputs": [],
   "source": [
    "double l = 659.423432;\n",
    "int n= l;\n",
    "Narrowing of values in smaller variable type."
   ]
  },
  {
   "cell_type": "markdown",
   "metadata": {},
   "source": [
    "# Are all String’s immutable?"
   ]
  },
  {
   "cell_type": "code",
   "execution_count": null,
   "metadata": {},
   "outputs": [],
   "source": [
    "Yes, once string object is created it’s value can never be modified.\n",
    "String s = \"Hey\";\n",
    "s.concat(\"There\");\n",
    "\n",
    "s will be Hey only. HeyThere has to be stored in another string variable (let s1)."
   ]
  },
  {
   "cell_type": "markdown",
   "metadata": {},
   "source": [
    "# Where are String values stored in memory?"
   ]
  },
  {
   "cell_type": "code",
   "execution_count": null,
   "metadata": {},
   "outputs": [],
   "source": [
    "In String constant pool over Heap.\n",
    "String s1 = \"Value\";\n",
    "String s2 = \"Value\";\n",
    "\n",
    "The value of s2 would be searched in string constant pool and would be reused.\n",
    "\n",
    "\n",
    "Strings s = new String(\"Value\");\n",
    "'new operator will create new object in the heap."
   ]
  },
  {
   "cell_type": "markdown",
   "metadata": {},
   "source": [
    "# Why should you be careful about String concatenation(+) operator in loops?"
   ]
  },
  {
   "cell_type": "code",
   "execution_count": null,
   "metadata": {},
   "outputs": [],
   "source": [
    "Every time a new object would be created. Memory would be consumed too much."
   ]
  },
  {
   "cell_type": "markdown",
   "metadata": {},
   "source": [
    "# How do you solve above problem?"
   ]
  },
  {
   "cell_type": "markdown",
   "metadata": {},
   "source": [
    "Using a) String Buffer b) String Builder"
   ]
  },
  {
   "cell_type": "markdown",
   "metadata": {},
   "source": [
    "# What are differences between String and StringBuffer?\n",
    "\n"
   ]
  },
  {
   "cell_type": "code",
   "execution_count": null,
   "metadata": {},
   "outputs": [],
   "source": [
    "a) String — → immutable. String Buffer value can be modified.\n",
    "\n",
    "b) String Buffer performance is good in case of loops.\n",
    "\n",
    "c) Both are thread safe.\n",
    "\n",
    "d) String Buffer is used with synchronized keyword on all methods."
   ]
  },
  {
   "cell_type": "markdown",
   "metadata": {},
   "source": [
    "# What are differences between StringBuilder and StringBuffer?\n",
    "\n"
   ]
  },
  {
   "cell_type": "code",
   "execution_count": null,
   "metadata": {},
   "outputs": [],
   "source": [
    "String Buffer -----> Thread Safe\n",
    "\n",
    "String Builder -----> Not Thread Safe"
   ]
  },
  {
   "cell_type": "markdown",
   "metadata": {},
   "source": [
    "# What is a class?"
   ]
  },
  {
   "cell_type": "code",
   "execution_count": null,
   "metadata": {},
   "outputs": [],
   "source": [
    "Class is a blueprint or prototype in Java.\n",
    "Class is a template.\n",
    "By using this template, we can create n objects.\n",
    "\n",
    "Class defines the state and behaviour of an object."
   ]
  },
  {
   "cell_type": "markdown",
   "metadata": {},
   "source": [
    "# What is an object?"
   ]
  },
  {
   "cell_type": "code",
   "execution_count": null,
   "metadata": {},
   "outputs": [],
   "source": [
    "Objects are the instances of the class.\n",
    "\n",
    "CricketScorer cricscorer = new CricketScorer();\n",
    "\n",
    "'cricscorer is an object"
   ]
  },
  {
   "cell_type": "markdown",
   "metadata": {},
   "source": [
    "# What is state of an object?"
   ]
  },
  {
   "cell_type": "code",
   "execution_count": null,
   "metadata": {},
   "outputs": [],
   "source": [
    "It's the value that the instance variable have a particular instance of time.\n",
    "\n",
    "Instance variable constitute state of the object."
   ]
  },
  {
   "cell_type": "code",
   "execution_count": null,
   "metadata": {},
   "outputs": [],
   "source": [
    "\tscorer.six();\n",
    "\t\t\t\t\t\t\t\t//State\tof\tscorer\tis\t(score\t=>\t6)\n",
    "\tscorer.four();\n",
    "\t\t\t\t\t\t\t\t//State\tof\tscorer\tis\t(score\t=>\t10)"
   ]
  },
  {
   "cell_type": "markdown",
   "metadata": {},
   "source": [
    "# What is behavior of an object?\n"
   ]
  },
  {
   "cell_type": "code",
   "execution_count": null,
   "metadata": {},
   "outputs": [],
   "source": [
    "Methods represent the behaviour of an object.\n",
    "\n",
    "Six(), Four() method increases the value of scorer object by 4 and 6."
   ]
  },
  {
   "cell_type": "markdown",
   "metadata": {},
   "source": [
    "# What is the super class of every class in Java?"
   ]
  },
  {
   "cell_type": "code",
   "execution_count": null,
   "metadata": {},
   "outputs": [],
   "source": [
    "Object Class"
   ]
  },
  {
   "cell_type": "code",
   "execution_count": null,
   "metadata": {},
   "outputs": [],
   "source": [
    "# When we create a class we inherit all the methods\n",
    "# and properties of Object class"
   ]
  },
  {
   "cell_type": "markdown",
   "metadata": {},
   "source": [
    "# Explain about toString method ?"
   ]
  },
  {
   "cell_type": "code",
   "execution_count": null,
   "metadata": {},
   "outputs": [],
   "source": [
    "toString method is used to print the content of an Object."
   ]
  },
  {
   "cell_type": "markdown",
   "metadata": {},
   "source": [
    "# What happens without toString() method?"
   ]
  },
  {
   "cell_type": "code",
   "execution_count": null,
   "metadata": {},
   "outputs": [],
   "source": [
    " If the toString method is not overridden in a\n",
    "class, the default toString method from Object class is invoked. This would print some hashcode as\n",
    "shown in the example below."
   ]
  },
  {
   "cell_type": "code",
   "execution_count": null,
   "metadata": {},
   "outputs": [],
   "source": [
    "class Animal\t{\n",
    "public Animal(String\tname,\tString\ttype)\t\n",
    "    this.name =\tname;\n",
    "\tthis.type =\ttype;\n",
    "}\n",
    "String\tname;\n",
    "String\ttype;\n",
    "}\n",
    "\n",
    "Run this piece of code:\n",
    "Animal\tanimal\t=\tnew Animal(\"Tommy\",\t\"Dog\");\n",
    "System.out.println(animal);"
   ]
  },
  {
   "cell_type": "markdown",
   "metadata": {},
   "source": [
    "### Output :- Animal@f7e6a96"
   ]
  },
  {
   "cell_type": "markdown",
   "metadata": {},
   "source": [
    "# What happens after adding toString() method?"
   ]
  },
  {
   "cell_type": "code",
   "execution_count": null,
   "metadata": {},
   "outputs": [],
   "source": [
    "class Animal{\n",
    "\n",
    "public Animal(String name, String type){\n",
    "    this.name =\tname;\n",
    "    this.type =\ttype;\n",
    "}\n",
    "String\tname;\n",
    "String\ttype;\n",
    "public String toString()\n",
    "return \"Animal\t[name=\" + name + \",\ttype=\" +type+\"]\";\n",
    "}\n",
    "}\n",
    "Run this piece of code:\n",
    "Animal animal =\tnew Animal(\"Tommy\",\"Dog\");\n",
    "System.out.println(animal);"
   ]
  },
  {
   "cell_type": "markdown",
   "metadata": {},
   "source": [
    "# What is the use of equals method in Java?"
   ]
  },
  {
   "cell_type": "markdown",
   "metadata": {},
   "source": [
    "Equals method is used when we compare two objects"
   ]
  },
  {
   "cell_type": "markdown",
   "metadata": {},
   "source": [
    "# What is the default implementation of equals()?"
   ]
  },
  {
   "cell_type": "code",
   "execution_count": null,
   "metadata": {},
   "outputs": [],
   "source": [
    "Default implementation of equals method is\n",
    "defined in Object class. \n",
    "The implementation is similar to == operator. \n",
    "\n",
    "Two object references are equal\n",
    "only if they are pointing to the same object.\n",
    "We need to override equals method, if we would want to compare the contents of an object."
   ]
  },
  {
   "cell_type": "markdown",
   "metadata": {},
   "source": [
    "# Example"
   ]
  },
  {
   "cell_type": "code",
   "execution_count": null,
   "metadata": {},
   "outputs": [],
   "source": [
    "class Client{\n",
    "private int id;\n",
    "public Client(int id){\n",
    "this.id =\tid;\n",
    "}\n",
    "}\n",
    "== comparison operator checks if the object references are pointing to the same object. It does NOT look\n",
    "at the content of the object.\n",
    "Client client1 =new Client(25);\n",
    "Client client2 =new Client(25);\n",
    "Client client3 =client1;"
   ]
  },
  {
   "cell_type": "code",
   "execution_count": null,
   "metadata": {},
   "outputs": [],
   "source": [
    "System.out.println(client1==client2);\n"
   ]
  },
  {
   "cell_type": "code",
   "execution_count": null,
   "metadata": {},
   "outputs": [],
   "source": [
    "#client3 and client1\trefer\tto\tthe\tsame\tclient\tobjects.\n",
    "System.out.println(client1\t==\tclient3);//true\n"
   ]
  },
  {
   "cell_type": "code",
   "execution_count": null,
   "metadata": {},
   "outputs": [],
   "source": [
    "#similar output to==\n",
    "System.out.println(client1.equals(client2));//false\n",
    "System.out.println(client1.equals(client3));//true"
   ]
  },
  {
   "cell_type": "markdown",
   "metadata": {},
   "source": [
    "# Equals() Method"
   ]
  },
  {
   "cell_type": "code",
   "execution_count": null,
   "metadata": {},
   "outputs": [],
   "source": [
    "We need to override the equals method of the object class to compare two objects.\n",
    "\n",
    "Else it would compare object references of two objects."
   ]
  },
  {
   "cell_type": "code",
   "execution_count": null,
   "metadata": {},
   "outputs": [],
   "source": [
    "@Override\n",
    "public boolean equals(Object obj){\n",
    "Client\tother =(Client) obj;\n",
    "if (id !=\tother.id)\n",
    "return false;\n",
    "return true;"
   ]
  },
  {
   "cell_type": "markdown",
   "metadata": {},
   "source": [
    "# What are the important things to consider when implementing equals method?"
   ]
  },
  {
   "cell_type": "code",
   "execution_count": null,
   "metadata": {},
   "outputs": [],
   "source": [
    "1. Reflexive :- x.equals(x)\n",
    "2. Symetric :- x.equals(y) is equal to y.equals(x)\n",
    "3. Transitive :- x.equals(y) and y.equals(z) so x.equals(z)\n",
    "4. For any null ref of x, must return false\n",
    " x.equals(null)\n",
    "# False"
   ]
  },
  {
   "cell_type": "markdown",
   "metadata": {},
   "source": [
    "# What is the Hashcode method used for in Java?"
   ]
  },
  {
   "cell_type": "code",
   "execution_count": null,
   "metadata": {},
   "outputs": [],
   "source": [
    "Evenly distributes objects into groups."
   ]
  },
  {
   "cell_type": "markdown",
   "metadata": {},
   "source": [
    "# Explain inheritance with examples ."
   ]
  },
  {
   "cell_type": "code",
   "execution_count": null,
   "metadata": {},
   "outputs": [],
   "source": [
    "Sub- class will inherit all the property of it's super class."
   ]
  },
  {
   "cell_type": "code",
   "execution_count": null,
   "metadata": {},
   "outputs": [],
   "source": [
    "public class Actor\n",
    "{\n",
    "    public void act()\n",
    "    {\n",
    "        System.out.println(\"Act\");\n",
    "    }\n",
    "}\n",
    "\n",
    "\n",
    "public class Hero extends Actor\n",
    "{\n",
    "    public void fight()\n",
    "    {\n",
    "        System.out.println(\"Fight\");\n",
    "    }\n",
    "}\n",
    "\n",
    "Hero h = new Hero();\n",
    "h.fight();\n",
    "h.act();"
   ]
  },
  {
   "cell_type": "markdown",
   "metadata": {},
   "source": [
    "# Inheritance in Java"
   ]
  },
  {
   "cell_type": "code",
   "execution_count": null,
   "metadata": {},
   "outputs": [],
   "source": [
    "Abstract Collection\n",
    "        ||\n",
    "        ||\n",
    "AbstractList\n",
    "        ||\n",
    "        ||\n",
    "ArrayList"
   ]
  },
  {
   "cell_type": "markdown",
   "metadata": {},
   "source": [
    "# What is method overloading?"
   ]
  },
  {
   "cell_type": "code",
   "execution_count": null,
   "metadata": {},
   "outputs": [],
   "source": [
    "Same name as another method (in same class or a sub class) \n",
    "but having different parameters"
   ]
  },
  {
   "cell_type": "code",
   "execution_count": null,
   "metadata": {},
   "outputs": [],
   "source": [
    "class Foo\n",
    "{\n",
    "    public void doIt(int n)\n",
    "    {\n",
    "        \n",
    "    }\n",
    "    \n",
    "    public void doIt(String n)\n",
    "    {\n",
    "        \n",
    "    }\n",
    "}"
   ]
  },
  {
   "cell_type": "markdown",
   "metadata": {},
   "source": [
    "# Can overloading be done from a sub class?"
   ]
  },
  {
   "cell_type": "code",
   "execution_count": null,
   "metadata": {},
   "outputs": [],
   "source": [
    "Yes."
   ]
  },
  {
   "cell_type": "code",
   "execution_count": null,
   "metadata": {},
   "outputs": [],
   "source": [
    "class Boo extends Foo\n",
    "{\n",
    "    public void doIt(int n, String s)\n",
    "    {\n",
    "        \n",
    "    }\n",
    "    \n",
    "}"
   ]
  },
  {
   "cell_type": "markdown",
   "metadata": {},
   "source": [
    "# What is method overriding?"
   ]
  },
  {
   "cell_type": "code",
   "execution_count": null,
   "metadata": {},
   "outputs": [],
   "source": [
    "Creating a Sub Class Method with same signature as that of a method in SuperClass is called Method\n",
    "Overriding."
   ]
  },
  {
   "cell_type": "code",
   "execution_count": null,
   "metadata": {},
   "outputs": [],
   "source": [
    "public class Animal\t{\n",
    "public String bark()\n",
    "    {\n",
    "return \"Don't Know!\";\n",
    "}\n",
    "}\n",
    "\n",
    "\n",
    "public class Cat extends Animal {}\n",
    "public String bark()\n",
    "    {\n",
    "return \"Meow Meow\";\n",
    "}\n",
    "}\n"
   ]
  },
  {
   "cell_type": "code",
   "execution_count": null,
   "metadata": {},
   "outputs": [],
   "source": [
    "Cat cat = new Cat();\n",
    "cat.bark();\n",
    "\n",
    "# Output :- Meow Meow"
   ]
  },
  {
   "cell_type": "markdown",
   "metadata": {},
   "source": [
    "# Can super class reference variable can hold an object of sub class?"
   ]
  },
  {
   "cell_type": "code",
   "execution_count": null,
   "metadata": {},
   "outputs": [],
   "source": [
    "Yes.\n",
    "\n",
    "Object obj = new Hero();\n",
    "or\n",
    "\n",
    "Animal cat = new Cat();"
   ]
  },
  {
   "cell_type": "markdown",
   "metadata": {},
   "source": [
    "# Is multiple inheritance allowed in Java?\n"
   ]
  },
  {
   "cell_type": "code",
   "execution_count": null,
   "metadata": {},
   "outputs": [],
   "source": [
    "No\n",
    "\n",
    "Car extends Vehicle, FourWheeler # ERROR"
   ]
  },
  {
   "cell_type": "markdown",
   "metadata": {},
   "source": [
    "# Is Hierarchical inheritance allowed in Java?"
   ]
  },
  {
   "cell_type": "code",
   "execution_count": null,
   "metadata": {},
   "outputs": [],
   "source": [
    "Yes.\n",
    "\n",
    "comedian extends hero\n",
    "\n",
    "hero extends actor"
   ]
  },
  {
   "cell_type": "code",
   "execution_count": null,
   "metadata": {},
   "outputs": [],
   "source": [
    "# What is an interface?\n",
    "\n",
    "An interface defines a contract for responsibilities of a class.\n",
    "\n",
    "# How do you define interface?\n",
    "\n",
    "public abstract interface Flyable\n",
    "{\n",
    "    public abstract void fly();\n",
    "}\n",
    "\n",
    "# Note :- public and abstract are not necessary.\n",
    "\n",
    "# How do you implement an interface?\n",
    "\n",
    "public class Aeroplane implements Flyable\n",
    "{\n",
    "    @override\n",
    "    public void fly()\n",
    "    {\n",
    "        System.out.println(\"Bird Flys\")\n",
    "    }\n",
    "}\n",
    "\n",
    "# Can you explain a few tricky things about interfaces?\n",
    "\n",
    "\n",
    "Variables in an interface are always public, static and final.\n",
    "It cant be private.\n",
    "\n",
    "interface ExampleInterface1 {\n",
    "//By default public, static and final. No other modifier is allowed.\n",
    "//value1,value2,value3,value4 are all -> public, static and final.\n",
    "\n",
    "    int value1 = 20\n",
    "    public int value2 = 34\n",
    "    public static int value3 = 334\n",
    "    public static final int value4 = 4454\n",
    "\n",
    "# What is the nature of an interface methods?\n",
    "\n",
    "It is by nature public and abstract.\n",
    "\n",
    "# Can a concerete method be implemented in Interfaces?\n",
    "\n",
    "Yes, from JAVA 8.\n",
    "\n",
    "# How can concrete method be implemented in Interfaces?\n",
    "\n",
    "By using default keyword.\n",
    "\n",
    "public abstract Interface interfaceName\n",
    "{\n",
    "    public void method1();  # Runs Fine\n",
    "    \n",
    "    public void run()     # Error\n",
    "    {\n",
    "        System.out.println();\n",
    "    }\n",
    "    \n",
    "    '''default void run()     # Concrete Method\n",
    "    {\n",
    "        System.out.println();\n",
    "    }'''\n",
    "}\n",
    "\n",
    "# Can you extend an interface?\n",
    "\n",
    "Yes. An interface can extend an interface.\n",
    "\n",
    "interface namedasOne extends interfaceTwo\n",
    "{\n",
    "    \n",
    "}\n",
    "\n",
    "Class implementing namedasOne should implement all the methods of namedasOne as well as interfaceTwo.\n",
    "\n",
    "# Can a interface extend a class?\n",
    "\n",
    "No\n",
    "\n",
    "# Can a class extend multiple interfaces?\n",
    "\n",
    "We can say yes but it actually impelements multiple interfaces.\n",
    "\n",
    "# Can a class implement multiple interfaces?\n",
    "\n",
    "Yes\n",
    "\n",
    "class Sample implements interfaceOne, interfaceTwo\n",
    "\n",
    "\n",
    "# Sample class implements all the methods of interfaceOne, interfaceTwo\n",
    "\n",
    "# Give an example from Java?\n",
    "\n",
    "HashMap interface implements Map and Seriaziable interfaces in Java.\n",
    "\n",
    "# What is Abstract Class?\n",
    "\n",
    "A class that can't be instantiated.\n",
    "An abstract class must be inherited.\n",
    "\n",
    "# What is Abstract Method?\n",
    "\n",
    "An abstract method doesn't have any body.\n",
    "It doesn't have any implementation.'\n",
    "It can only be defined in an abstract class.\n",
    "\n",
    "abstract class Venky\n",
    "{\n",
    "    abstract void skills();\n",
    "}\n",
    "\n",
    "# Can an abstract method be defined in normal classes?\n",
    "\n",
    "No\n",
    "\n",
    "public class Venky\n",
    "{\n",
    "    abstract void skills(); #ERROR\n",
    "}\n",
    "\n",
    "# Can an abstract class have normal methods?\n",
    "\n",
    "Yes.\n",
    "\n",
    "# Example in Java\n",
    "\n",
    "Abstract Map (has all common methods like get,put,containsKey, containsValue)\n",
    "\n",
    "HashMap and TreeMap extends Abstract Map. \n",
    "\n",
    "#  Compare abstract class vs interface?\n",
    "\n",
    "Syntactical difference.\n",
    "\n",
    "Methods and variables of an abstract class can have any access specifier\n",
    "but methods and variables of interface are always public.\n",
    "\n",
    "# What is Constructor?\n",
    "\n",
    "Constructor is invoked whenever we create an instance (object) of a class.\n",
    "We cannot create an object without constructor.\n",
    "\n",
    "Constructor has the same name as the class and no return type. \n",
    "It can accept any number of parameters.\n",
    "\n",
    "class Animal\n",
    "{\n",
    "    Animal(String name)\n",
    "    {\n",
    "        this.name = name\n",
    "    }\n",
    "    void main(String args[])\n",
    "    {\n",
    "        Animal animal = new Animal(\"Dog\");\n",
    "    }\n",
    "}\n",
    "\n",
    "# What is default constructor?\n",
    "\n",
    "Default Constructor is the constructor that is provided by the compiler. \n",
    "It has no arguments. \n",
    "In the example below, there are no Constructors defined in the Animal class. \n",
    "Compiler provides us with a\n",
    "default constructor, which helps us create an instance of animal class.\n",
    "\n",
    "class Animal\n",
    "{\n",
    "    String name;\n",
    "    void main(String args[])\n",
    "    {\n",
    "        Animal animal = new Animal();\n",
    "    }\n",
    "}\n",
    "\n",
    "# Will this code compile?\n",
    "\n",
    "class Animal\n",
    "{\n",
    "    String name;\n",
    "    \n",
    "    Animal()\n",
    "    {\n",
    "        this.name = \"Default\"\n",
    "    }\n",
    "    Animal(String name)\n",
    "    {\n",
    "        this.name = name\n",
    "    }\n",
    "    void main(String args[])\n",
    "    {\n",
    "        Animal animal = new Animal();\n",
    "    }\n",
    "}\n",
    "\n",
    "Answer is No.\n",
    "Since we already provided a constructor, compiler will not provide default constructor.\n",
    "\n",
    "# How do you call a super class constructor from a constructor?\n",
    "\n",
    "A constructor can call the constructor of a super class using the super() method call. \n",
    "Only constraint is that it should be the first statement.\n",
    "\n",
    "public Animal\n",
    "{\n",
    "    super();\n",
    "    this.name = \"Default name\"\n",
    "}\n",
    "\n",
    "# Will this code run?\n",
    "\n",
    "public Animal\n",
    "{\n",
    "    this.name = \"Default name;\n",
    "    super();\n",
    "}\n",
    "\n",
    "No\n",
    "\n",
    "# What is the use of this()?\n",
    "\n",
    "Another constructor in the same class can be invoked using this() method call.\n",
    "\n",
    "public Animal()\n",
    "{\n",
    "    this(\"Default Name\")\n",
    "    \n",
    "}\n",
    "\n",
    "public Animal()\n",
    "{\n",
    "    this.name = name;\n",
    "    \n",
    "}\n",
    "\n",
    "# Can a constructor be called directly from a method?\n",
    "\n",
    "No. A method cannot call another constructor.\n",
    "A constructor can call another constructor though.\n",
    "\n",
    "class Animal {\n",
    "String name;\n",
    "\n",
    "public Animal() {}\n",
    "\n",
    "}\n",
    "public method() {\n",
    "Animal();//Compiler\terror\n",
    "}\n",
    "}\n",
    "\n",
    "# Is a super class constructor called even when there is no explicit call from a sub class constructor?\n",
    "\n",
    "If a super class constructor is not explicitly called from a sub class constructor, super class (no argument)\n",
    "constructor is automatically invoked (as first line) from a sub class constructor.\n",
    "\n",
    "class Animal {\n",
    "public Animal() {\n",
    "System.out.println(\"Animal Constructor\");\n",
    "}\n",
    "}\n",
    "\n",
    "class Dog extends Animal {\n",
    "public Dog() {\n",
    "System.out.println(\"Dog Constructor\");\n",
    "}\n",
    "}\n",
    "\n",
    "class Labrador extends Dog {\n",
    "public Labrador() {\n",
    "System.out.println(\"Labrador Constructor\");\n",
    "}\n",
    "}\n",
    "\n",
    "public class ConstructorExamples {\n",
    "public static void main(String[]\targs) {\n",
    "Labrador labrador = new Labrador();\n",
    "}\n",
    "}\n",
    "Program Output :- \n",
    "Animal Constructor\n",
    "Dog Constructor\n",
    "Labrador Constructor"
   ]
  }
 ],
 "metadata": {
  "kernelspec": {
   "display_name": "Python 2",
   "language": "python",
   "name": "python2"
  },
  "language_info": {
   "codemirror_mode": {
    "name": "ipython",
    "version": 2
   },
   "file_extension": ".py",
   "mimetype": "text/x-python",
   "name": "python",
   "nbconvert_exporter": "python",
   "pygments_lexer": "ipython2",
   "version": "2.7.14"
  }
 },
 "nbformat": 4,
 "nbformat_minor": 2
}
