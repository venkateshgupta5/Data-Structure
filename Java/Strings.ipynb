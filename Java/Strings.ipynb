{
 "cells": [
  {
   "cell_type": "markdown",
   "metadata": {},
   "source": [
    "# Are all String’s immutable?"
   ]
  },
  {
   "cell_type": "code",
   "execution_count": null,
   "metadata": {},
   "outputs": [],
   "source": [
    "Yes, once string object is created it’s value can never be modified.\n",
    "String s = \"Hey\";\n",
    "s.concat(\"There\");\n",
    "\n",
    "s will be Hey only. HeyThere has to be stored in another string variable (let s1)."
   ]
  },
  {
   "cell_type": "markdown",
   "metadata": {},
   "source": [
    "# Where are String values stored in memory?"
   ]
  },
  {
   "cell_type": "code",
   "execution_count": null,
   "metadata": {},
   "outputs": [],
   "source": [
    "In String constant pool over Heap.\n",
    "String s1 = \"Value\";\n",
    "String s2 = \"Value\";\n",
    "\n",
    "The value of s2 would be searched in string constant pool and would be reused.\n",
    "\n",
    "\n",
    "Strings s = new String(\"Value\");\n",
    "'new operator will create new object in the heap."
   ]
  },
  {
   "cell_type": "markdown",
   "metadata": {},
   "source": [
    "# Why should you be careful about String concatenation(+) operator in loops?"
   ]
  },
  {
   "cell_type": "code",
   "execution_count": null,
   "metadata": {},
   "outputs": [],
   "source": [
    "Every time a new object would be created. Memory would be consumed too much."
   ]
  },
  {
   "cell_type": "markdown",
   "metadata": {},
   "source": [
    "# How do you solve above problem?"
   ]
  },
  {
   "cell_type": "markdown",
   "metadata": {},
   "source": [
    "Using a) String Buffer b) String Builder"
   ]
  },
  {
   "cell_type": "markdown",
   "metadata": {},
   "source": [
    "# What are differences between String and StringBuffer?\n",
    "\n"
   ]
  },
  {
   "cell_type": "code",
   "execution_count": null,
   "metadata": {},
   "outputs": [],
   "source": [
    "a) String — → immutable. String Buffer value can be modified.\n",
    "\n",
    "b) String Buffer performance is good in case of loops.\n",
    "\n",
    "c) Both are thread safe.\n",
    "\n",
    "d) String Buffer is used with synchronized keyword on all methods."
   ]
  },
  {
   "cell_type": "markdown",
   "metadata": {},
   "source": [
    "# What are differences between StringBuilder and StringBuffer?\n",
    "\n"
   ]
  },
  {
   "cell_type": "code",
   "execution_count": null,
   "metadata": {},
   "outputs": [],
   "source": [
    "String Buffer -----> Thread Safe\n",
    "\n",
    "String Builder -----> Not Thread Safe"
   ]
  }
 ],
 "metadata": {
  "kernelspec": {
   "display_name": "Python 2",
   "language": "python",
   "name": "python2"
  },
  "language_info": {
   "codemirror_mode": {
    "name": "ipython",
    "version": 2
   },
   "file_extension": ".py",
   "mimetype": "text/x-python",
   "name": "python",
   "nbconvert_exporter": "python",
   "pygments_lexer": "ipython2",
   "version": "2.7.14"
  }
 },
 "nbformat": 4,
 "nbformat_minor": 2
}
