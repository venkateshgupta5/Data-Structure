{
 "cells": [
  {
   "cell_type": "markdown",
   "metadata": {},
   "source": [
    "# Selection Sort"
   ]
  },
  {
   "cell_type": "code",
   "execution_count": 37,
   "metadata": {},
   "outputs": [
    {
     "name": "stdout",
     "output_type": "stream",
     "text": [
      " \n",
      "('---------Pass---------', 0)\n",
      "0 5 1 6 2  \n",
      "('---------Pass---------', 1)\n",
      "0 1 5 6 2  \n",
      "('---------Pass---------', 2)\n",
      "0 1 2 6 5  \n",
      "('---------Pass---------', 3)\n",
      "0 1 2 5 6  \n",
      "('---------Pass---------', 4)\n",
      "0 1 2 5 6 \n",
      "\n",
      "Sorted Array is :- \n",
      "0 1 2 5 6\n"
     ]
    }
   ],
   "source": [
    "\n",
    "def selectionSort(arr):\n",
    "    for i in range(0, len(arr)):\n",
    "        print(\" \")\n",
    "        print(\"---------Pass---------\",i)\n",
    "        min_id = i\n",
    "        \n",
    "        for j in range(i+1, len(arr)):\n",
    "            if(arr[j] < arr[min_id]):\n",
    "                min_id = j\n",
    "        arr[i], arr[min_id] = arr[min_id], arr[i]\n",
    "        \n",
    "        for i in range(0, len(arr)):\n",
    "            print(arr[i]),\n",
    "        \n",
    "arr = [2,5,1,6,0]\n",
    "arr1 = arr\n",
    "selectionSort(arr)\n",
    "\n",
    "\n",
    "print(\"\\n\")\n",
    "print(\"Sorted Array is :- \")\n",
    "for i in range(len(arr)):\n",
    "    print(arr[i]),\n"
   ]
  },
  {
   "cell_type": "code",
   "execution_count": null,
   "metadata": {},
   "outputs": [],
   "source": []
  },
  {
   "cell_type": "markdown",
   "metadata": {},
   "source": [
    "Time Complexity: O(n2) as there are two nested loops.\n",
    "\n",
    "Auxiliary Space: O(1)\n",
    "The good thing about selection sort is it never makes more than O(n) swaps \n",
    "and can be useful when memory write is a costly operation.\n"
   ]
  }
 ],
 "metadata": {
  "kernelspec": {
   "display_name": "Python 2",
   "language": "python",
   "name": "python2"
  },
  "language_info": {
   "codemirror_mode": {
    "name": "ipython",
    "version": 2
   },
   "file_extension": ".py",
   "mimetype": "text/x-python",
   "name": "python",
   "nbconvert_exporter": "python",
   "pygments_lexer": "ipython2",
   "version": "2.7.14"
  }
 },
 "nbformat": 4,
 "nbformat_minor": 2
}
