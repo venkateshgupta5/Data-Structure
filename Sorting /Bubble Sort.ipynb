{
 "cells": [
  {
   "cell_type": "markdown",
   "metadata": {},
   "source": [
    "# Bubble Sort"
   ]
  },
  {
   "cell_type": "code",
   "execution_count": 12,
   "metadata": {},
   "outputs": [
    {
     "name": "stdout",
     "output_type": "stream",
     "text": [
      "\n",
      "\n",
      "('Passs :-------------------------->>>>>', 1) \n",
      "11 13 4 32 \n",
      "\n",
      "('Passs :-------------------------->>>>>', 2) \n",
      "11 4 13 32 \n",
      "\n",
      "('Passs :-------------------------->>>>>', 3) \n",
      "4 11 13 32 \n",
      "\n",
      "Sorted Array is :--\n",
      "4 11 13 32\n"
     ]
    }
   ],
   "source": [
    "def bubbleSort(arr):\n",
    "    for i in range(1, len(arr)):\n",
    "        print(\"\\n\")\n",
    "        \n",
    "        print(\"Passs :-------------------------->>>>>\", i),\n",
    "        for j in range(1, len(arr)):\n",
    "            if arr[j-1] > arr[j] :\n",
    "                arr[j-1], arr[j] = arr[j], arr[j-1]\n",
    "            \n",
    "        \n",
    "        ## this loop is only to display the array after every pass.\n",
    "        ## Using this loop increases complexity\n",
    "        print(\"\")\n",
    "        for i in range(len(arr)):\n",
    "            print(arr[i]),\n",
    "   \n",
    "          \n",
    "arr = [11,32,13,4]\n",
    "bubbleSort(arr)\n",
    "print(\"\\n\\nSorted Array is :--\")\n",
    "for i in range(len(arr)):\n",
    "    print(arr[i]),\n",
    "            "
   ]
  }
 ],
 "metadata": {
  "kernelspec": {
   "display_name": "Python 2",
   "language": "python",
   "name": "python2"
  },
  "language_info": {
   "codemirror_mode": {
    "name": "ipython",
    "version": 2
   },
   "file_extension": ".py",
   "mimetype": "text/x-python",
   "name": "python",
   "nbconvert_exporter": "python",
   "pygments_lexer": "ipython2",
   "version": "2.7.14"
  }
 },
 "nbformat": 4,
 "nbformat_minor": 2
}
