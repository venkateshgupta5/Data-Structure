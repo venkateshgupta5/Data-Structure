{
 "cells": [
  {
   "cell_type": "code",
   "execution_count": 1,
   "metadata": {},
   "outputs": [
    {
     "name": "stdout",
     "output_type": "stream",
     "text": [
      "\n",
      "\n",
      "('-----Pass ', 1)\n",
      "6 12 4 1 0 -3 \n",
      "\n",
      "('-----Pass ', 2)\n",
      "4 6 12 1 0 -3 \n",
      "\n",
      "('-----Pass ', 3)\n",
      "1 4 6 12 0 -3 \n",
      "\n",
      "('-----Pass ', 4)\n",
      "0 1 4 6 12 -3 \n",
      "\n",
      "('-----Pass ', 5)\n",
      "-3 0 1 4 6 12 \n",
      "\n",
      "Sorted Array is :-  \n",
      "-3 0 1 4 6 12\n"
     ]
    }
   ],
   "source": [
    "#Insertion Sort\n",
    "def insertionSort(arr):\n",
    "    for i in range(1, len(arr)):\n",
    "        print(\"\\n\")\n",
    "        print(\"-----Pass \",i)\n",
    "        \n",
    "        key = arr[i]\n",
    "        j = i-1\n",
    "        \n",
    "        while j>=0 and key<arr[j]:\n",
    "            arr[j+1] = arr[j]\n",
    "            j = j-1\n",
    "        arr[j+1] = key\n",
    "        \n",
    "        for i in range(0, len(arr)):\n",
    "            print(arr[i]),\n",
    "        \n",
    "arr = [12,6, 4, 1,0,-3]\n",
    "insertionSort(arr)\n",
    "\n",
    "print(\"\\n\\nSorted Array is :-  \")\n",
    "for i in range(0, len(arr)):\n",
    "    print(arr[i]),"
   ]
  }
 ],
 "metadata": {
  "kernelspec": {
   "display_name": "Python 2",
   "language": "python",
   "name": "python2"
  },
  "language_info": {
   "codemirror_mode": {
    "name": "ipython",
    "version": 2
   },
   "file_extension": ".py",
   "mimetype": "text/x-python",
   "name": "python",
   "nbconvert_exporter": "python",
   "pygments_lexer": "ipython2",
   "version": "2.7.14"
  }
 },
 "nbformat": 4,
 "nbformat_minor": 2
}
