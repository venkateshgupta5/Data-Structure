{
 "cells": [
  {
   "cell_type": "code",
   "execution_count": 1,
   "metadata": {},
   "outputs": [
    {
     "name": "stdout",
     "output_type": "stream",
     "text": [
      "Enter item to be searched3\n",
      "Found\n"
     ]
    }
   ],
   "source": [
    "item = int(raw_input(\"Enter item to be searched\"))\n",
    "l = [1,2,3,4,5]\n",
    "if item in l:\n",
    "    print \"Found\"\n",
    "else:\n",
    "    print \"Not Found\""
   ]
  },
  {
   "cell_type": "markdown",
   "metadata": {},
   "source": [
    "# Linear Search"
   ]
  },
  {
   "cell_type": "code",
   "execution_count": 105,
   "metadata": {},
   "outputs": [
    {
     "name": "stdout",
     "output_type": "stream",
     "text": [
      "Enter item to be searched 4\n",
      "Found\n"
     ]
    }
   ],
   "source": [
    "item = int(raw_input(\"Enter item to be searched \"))\n",
    "l = [1,2,3,4,5]\n",
    "n = len(l)\n",
    "found=False\n",
    "for i in range(n):\n",
    "    if l[i] == item:\n",
    "        found = True\n",
    "        break\n",
    "\n",
    "if(found):\n",
    "    print \"Found\"\n",
    "else:\n",
    "    print \"Not Found\"\n"
   ]
  },
  {
   "cell_type": "markdown",
   "metadata": {},
   "source": [
    "# Recursion"
   ]
  },
  {
   "cell_type": "code",
   "execution_count": 29,
   "metadata": {},
   "outputs": [
    {
     "name": "stdout",
     "output_type": "stream",
     "text": [
      "6\n",
      "5\n",
      "4\n",
      "3\n",
      "2\n",
      "1\n"
     ]
    }
   ],
   "source": [
    "def named(list,index,length):\n",
    "    if index == length:\n",
    "        pass\n",
    "    else:\n",
    "        named(list,index+1,length)\n",
    "        print(list[index])\n",
    "        \n",
    "l = [1,2,3,4,5,6]\n",
    "n = len(l)\n",
    "named(l,0,n)"
   ]
  },
  {
   "cell_type": "markdown",
   "metadata": {},
   "source": [
    "# Recursion"
   ]
  },
  {
   "cell_type": "code",
   "execution_count": 101,
   "metadata": {},
   "outputs": [
    {
     "name": "stdout",
     "output_type": "stream",
     "text": [
      "1\n",
      "2\n",
      "3\n",
      "4\n",
      "5\n",
      "6\n",
      "6\n",
      "5\n",
      "4\n",
      "3\n",
      "2\n",
      "1\n"
     ]
    }
   ],
   "source": [
    "def named(list,index,length):\n",
    "    if index == length:\n",
    "        pass\n",
    "    else:\n",
    "        print(list[index])\n",
    "        named(list,index+1,length)\n",
    "        print(list[index])\n",
    "        \n",
    "l = [1,2,3,4,5,6]\n",
    "n = len(l)\n",
    "named(l,0,n)"
   ]
  },
  {
   "cell_type": "markdown",
   "metadata": {},
   "source": [
    "# Binary Search"
   ]
  },
  {
   "cell_type": "code",
   "execution_count": 99,
   "metadata": {},
   "outputs": [
    {
     "name": "stdout",
     "output_type": "stream",
     "text": [
      "Enter number 234\n",
      "[1, 2, 3, 4, 5, 12, 122]\n",
      "(0, 6)\n",
      "('Mid--->', 3)\n",
      "(234, 4)\n",
      "('-----------INDEX', 'right')\n",
      "(4, 6)\n",
      "('Mid--->', 5)\n",
      "(234, 12)\n",
      "('-----------INDEX', 'right')\n",
      "Not Found\n"
     ]
    }
   ],
   "source": [
    "def position(list,l,r,item):\n",
    "    print(l,r)\n",
    "    mid = (l+r)/2\n",
    "    mid =int(mid)\n",
    "    print(\"Mid--->\",mid)\n",
    "    print(item,list[mid])\n",
    "    if item == list[mid]:\n",
    "        print \"True\"\n",
    "        return 'mid',mid\n",
    "    \n",
    "    elif item> list[mid]:\n",
    "        return ('right',mid)\n",
    "    elif item< list[mid]:\n",
    "        return 'left',mid\n",
    "    \n",
    "def binarySearch(arr,left,right,item):\n",
    "    p = False\n",
    "    if left != right:\n",
    "        index,mid = position(arr,left,right,item)\n",
    "        print(\"-----------INDEX\",index)\n",
    "        if index is 'mid':\n",
    "            p = True\n",
    "            return result(p)\n",
    "        if index is 'right':\n",
    "            binarySearch(arr,mid+1,right,item)\n",
    "    \n",
    "        if index is 'left':\n",
    "            binarySearch(arr,left,mid,item)\n",
    "    if left == right:\n",
    "        p = False\n",
    "        return result(p)\n",
    "def result(p):\n",
    "    if p is True:\n",
    "        print \"Found\"\n",
    "    else:\n",
    "        print \"Not Found\"\n",
    "\n",
    "item = int(raw_input(\"Enter number \"))\n",
    "\n",
    "list = [4,5,2,1,3,12,122]\n",
    "list.sort()\n",
    "print(list)\n",
    "    \n",
    "x = binarySearch(list,0,len(list)-1,item)\n"
   ]
  },
  {
   "cell_type": "markdown",
   "metadata": {},
   "source": [
    "# Bubble Sort"
   ]
  },
  {
   "cell_type": "code",
   "execution_count": 8,
   "metadata": {},
   "outputs": [
    {
     "name": "stdout",
     "output_type": "stream",
     "text": [
      "[-44, 0, 1, 2, 3, 4, 12, 33, 56, 56, 99]\n"
     ]
    }
   ],
   "source": [
    "arr = [3,4,2,1,0,56,33,12,99,56,-44]\n",
    "n = len(arr)\n",
    "def bubbleSort(arr):\n",
    "    for j in range(0,n):\n",
    "        for i in range(1,n):\n",
    "            if(arr[i-1]>arr[i]):\n",
    "                arr[i-1],arr[i] = arr[i],arr[i-1]\n",
    "    print(arr)\n",
    "            \n",
    "bubbleSort(arr)"
   ]
  },
  {
   "cell_type": "markdown",
   "metadata": {},
   "source": [
    "### The space complexity for Bubble Sort is O(1), \n",
    "### because only a single additional memory space is required i.e. for temp variable.\n",
    "\n"
   ]
  },
  {
   "cell_type": "markdown",
   "metadata": {},
   "source": [
    "#### Worst Case Time Complexity [ Big-O ]: O(n2)\n",
    "#### Best Case Time Complexity [Big-omega]: O(n)\n",
    "#### Average Time Complexity [Big-theta]: O(n2)\n"
   ]
  },
  {
   "cell_type": "markdown",
   "metadata": {},
   "source": [
    "# Insertion Sort"
   ]
  },
  {
   "cell_type": "code",
   "execution_count": 12,
   "metadata": {},
   "outputs": [
    {
     "name": "stdout",
     "output_type": "stream",
     "text": [
      "[-33, -1, 0, 3, 4, 4, 9, 34, 67, 88]\n"
     ]
    }
   ],
   "source": [
    "A = [4,3,1,0,-1,34,67,88,-33,4]\n",
    "n = len(A)\n",
    "\n",
    "def InsertionSort(A):\n",
    "    for j in range(1,n):\n",
    "        key = A[j]\n",
    "        i = j-1\n",
    "        \n",
    "        while i>=0 and A[i]>key:\n",
    "            A[i+1]=A[i]\n",
    "            i-=1\n",
    "        A[i+1] = key\n",
    "        \n",
    "InsertionSort(A)\n",
    "print(A)"
   ]
  },
  {
   "cell_type": "markdown",
   "metadata": {},
   "source": [
    "#### Worst Case Time Complexity [ Big-O ]: O(n2)\n",
    "#### Best Case Time Complexity [Big-omega]: O(n)\n",
    "#### Average Time Complexity [Big-theta]: O(n2)\n"
   ]
  },
  {
   "cell_type": "markdown",
   "metadata": {},
   "source": [
    "# Selection Sort"
   ]
  },
  {
   "cell_type": "code",
   "execution_count": 2,
   "metadata": {},
   "outputs": [
    {
     "name": "stdout",
     "output_type": "stream",
     "text": [
      "[-33, -1, 0, 3, 4, 4, 9, 34, 67, 88]\n"
     ]
    }
   ],
   "source": [
    "A = [9,3,4,0,-1,34,67,88,-33,4]\n",
    "n = len(A)\n",
    "\n",
    "def selectionSort(A):\n",
    "    for j in range(0,n):\n",
    "        min = j\n",
    "        for i in range(j+1,n):\n",
    "            if A[i]<A[min]:\n",
    "                min = i\n",
    "        if A[min]<A[j]:\n",
    "            A[min],A[j] = A[j],A[min]\n",
    "selectionSort(A)\n",
    "print(A)"
   ]
  },
  {
   "cell_type": "markdown",
   "metadata": {},
   "source": [
    "### Worst Case Time Complexity [ Big-O ]: O(n2)\n",
    "### Best Case Time Complexity [Big-omega]: O(n)\n",
    "### Average Time Complexity [Big-theta]: O(n2)\n"
   ]
  },
  {
   "cell_type": "markdown",
   "metadata": {},
   "source": [
    "# Merge Sort"
   ]
  },
  {
   "cell_type": "code",
   "execution_count": 99,
   "metadata": {},
   "outputs": [
    {
     "name": "stdout",
     "output_type": "stream",
     "text": [
      "Sorted Array is\n",
      "1 3 5 7 11 16\n"
     ]
    }
   ],
   "source": [
    "def merge(arr,l,m,r):\n",
    "    \n",
    "    n1 = m-l+1\n",
    "    n2 = r-m\n",
    "    \n",
    "    L = [0] * (n1)\n",
    "    R = [0] * (n2)\n",
    "    for i in range(0,n1):\n",
    "        L[i] = arr[i+l]\n",
    "\n",
    "    \n",
    "    \n",
    "    for j in range(0,n2):\n",
    "        R[j] = arr[j+m+1]\n",
    "\n",
    "    \n",
    "    \n",
    "    \n",
    "    #Merging the temp arrays\n",
    "    i = 0\n",
    "    j = 0\n",
    "    k = l ############# Why not Zero????????????????????????\n",
    "    \n",
    "    while i < n1 and j < n2:\n",
    "        if L[i] <= R[j]:\n",
    "            arr[k] = L[i]\n",
    "            i+=1\n",
    "        else:\n",
    "            arr[k] = R[j]\n",
    "            j+=1\n",
    "        k+=1\n",
    "    \n",
    "    while i<n1:\n",
    "        arr[k] = L[i]\n",
    "        i+=1\n",
    "        k+=1\n",
    "        \n",
    "    while j<n2:\n",
    "        arr[k] = R[j]\n",
    "        j+=1\n",
    "        k+=1\n",
    "    \n",
    "        \n",
    "    \n",
    "        \n",
    "def mergeSort(arr,l,r):\n",
    "    if l < r:\n",
    "        m = (l+r)/2\n",
    "        mergeSort(arr,l,m)\n",
    "        mergeSort(arr,m+1,r)\n",
    "        merge(arr,l,m,r)\n",
    "    \n",
    "    \n",
    "arr = [11, 3, 1, 5, 16, 7]\n",
    "\n",
    "n = len(arr)\n",
    "mergeSort(arr,0,n-1)\n",
    "# print(\"The array is\")\n",
    "# n = len(arr)\n",
    "# for i in range(0,n):\n",
    "#     print(arr[i]),\n",
    "\n",
    "# mergeSort(arr,0,n-1)\n",
    "\n",
    "print(\"Sorted Array is\")\n",
    "for i in range(0,n):\n",
    "    print(arr[i]),\n",
    "        "
   ]
  },
  {
   "cell_type": "markdown",
   "metadata": {},
   "source": [
    "# Max Heap"
   ]
  },
  {
   "cell_type": "code",
   "execution_count": 60,
   "metadata": {},
   "outputs": [
    {
     "name": "stdout",
     "output_type": "stream",
     "text": [
      "[19, 17, 12, 2, 10]\n"
     ]
    }
   ],
   "source": [
    "def heapify(arr,n,i):\n",
    "    largest = i\n",
    "    l = 2 * i + 1\n",
    "    r = 2 * i + 2\n",
    "    \n",
    "    if l<n and a[l]>a[i]:\n",
    "        largest = l\n",
    "    if r<n and a[r]>a[largest]:\n",
    "        largest = r\n",
    "        \n",
    "    if i!=largest:\n",
    "        a[i],a[largest] = a[largest],a[i]\n",
    "        heapify(arr,n,largest)\n",
    "        \n",
    "a = [2,10,12,17,19]\n",
    "n = len(a)\n",
    "for x in range(n,-1,-1):\n",
    "    heapify(arr,n,x)\n",
    "print(a)"
   ]
  },
  {
   "cell_type": "markdown",
   "metadata": {},
   "source": [
    "# Heap Sort"
   ]
  },
  {
   "cell_type": "code",
   "execution_count": 73,
   "metadata": {},
   "outputs": [
    {
     "name": "stdout",
     "output_type": "stream",
     "text": [
      "Sorted Array is \n",
      "[2, 10, 12, 17, 19]\n"
     ]
    }
   ],
   "source": [
    "def heapify(arr,n,i):\n",
    "    largest = i\n",
    "    l = 2 * i + 1\n",
    "    r = 2 * i + 2\n",
    "    \n",
    "    if l<n and a[l]>a[i]:\n",
    "        largest = l\n",
    "    if r<n and a[r]>a[largest]:\n",
    "        largest = r\n",
    "        \n",
    "    if i!=largest:\n",
    "        a[i],a[largest] = a[largest],a[i]\n",
    "        heapify(arr,n,largest)\n",
    "\n",
    "def heapSort(A):\n",
    "    n = len(A)\n",
    "    \n",
    "    # max heap\n",
    "    for x in range(n,-1,-1):\n",
    "        heapify(A,n,x)\n",
    "    \n",
    "    for y in range(n-1,0,-1):\n",
    "        A[y],A[0] = A[0],A[y]\n",
    "        heapify(arr,y,0)\n",
    "                \n",
    "a = [2,10,12,17,19]\n",
    "heapSort(a)\n",
    "\n",
    "print \"Sorted Array is \"\n",
    "print(a)\n",
    "\n"
   ]
  },
  {
   "cell_type": "markdown",
   "metadata": {},
   "source": [
    "## Heap sort is an in-place algorithm."
   ]
  },
  {
   "cell_type": "markdown",
   "metadata": {},
   "source": [
    "#### Time complexity of heapify is O(Logn). \n",
    "#### Overall time complexity of Heap Sort is O(nLogn)."
   ]
  },
  {
   "cell_type": "markdown",
   "metadata": {},
   "source": [
    "# Occurence of characters in String"
   ]
  },
  {
   "cell_type": "code",
   "execution_count": 146,
   "metadata": {},
   "outputs": [
    {
     "name": "stdout",
     "output_type": "stream",
     "text": [
      "  a   b   c   d   e   f   g   h   i   j   k   l   m   n   o   p   q   r   s   t   u   v   w   x   y   z \n",
      "  4   0   1   0   4   0   0   3   2   0   0   0   4   1   2   0   0   1   2   2   0   0   1   0   4   0\n"
     ]
    }
   ],
   "source": [
    "def counting(A):\n",
    "        for x in A:\n",
    "            num = ord(x)\n",
    "            if num is not 32:\n",
    "                num = num - 65\n",
    "                arr[num] = arr[num] + 1\n",
    "        \n",
    "name = 'Hey my name is math emati cshow areyoy'\n",
    "name = name.upper()\n",
    "arr = [0] * 26\n",
    "counting(name)\n",
    "for y in range(0,len(arr)):\n",
    "    print \"  {}\".format(chr(y+97)),\n",
    "print(\"\")\n",
    "for y in range(0,len(arr)):\n",
    "    print \"  {}\".format(arr[y]),\n"
   ]
  },
  {
   "cell_type": "markdown",
   "metadata": {},
   "source": [
    "# Partition Logic"
   ]
  },
  {
   "cell_type": "code",
   "execution_count": 152,
   "metadata": {},
   "outputs": [
    {
     "name": "stdout",
     "output_type": "stream",
     "text": [
      "[10, 30, 40, 50, 70, 90, 80]\n"
     ]
    }
   ],
   "source": [
    "def quickSortFUNCTION1(A,):\n",
    "    n = len(A)\n",
    "    pivot = n-1\n",
    "    i=-1\n",
    "    for j in range(0,n):\n",
    "        if A[pivot] > A[j]:\n",
    "            i+=1\n",
    "            A[i],A[j] = A[j],A[i]\n",
    "            \n",
    "        else:\n",
    "            pass\n",
    "    A[i+1],A[pivot] = A[pivot],A[i+1]\n",
    "    \n",
    "    \n",
    "    \n",
    "A = [10,80,30,90,40,50,70]\n",
    "quickSortFUNCTION1(A)\n",
    "print(A)\n",
    "\n",
    "        "
   ]
  },
  {
   "cell_type": "markdown",
   "metadata": {},
   "source": [
    "# QUICK SORT IMPLEMENTATION"
   ]
  },
  {
   "cell_type": "code",
   "execution_count": 2,
   "metadata": {},
   "outputs": [
    {
     "name": "stdout",
     "output_type": "stream",
     "text": [
      "[-90, -80, -5, 0, 10, 30, 40, 50, 70, 80, 90, 100]\n"
     ]
    }
   ],
   "source": [
    "def partition(A,low,high):\n",
    "    pivot = high-1\n",
    "    i=low-1\n",
    "    for j in range(low,high):\n",
    "        if A[pivot] > A[j]:\n",
    "            i+=1\n",
    "            A[i],A[j] = A[j],A[i]\n",
    "            \n",
    "        else:\n",
    "            pass\n",
    "    A[i+1],A[pivot] = A[pivot],A[i+1]\n",
    "    return ( i+1 )\n",
    "    \n",
    "def quickSort(arr,low,high):\n",
    "    if low<high:\n",
    "        pi = partition(arr,low,high)\n",
    "        \n",
    "        quickSort(arr,low,pi)\n",
    "        quickSort(arr,pi+1,high)\n",
    "    \n",
    "    \n",
    "    \n",
    "A = [10,80,30,90,40,50,70,-90,-80,-5,100,0]\n",
    "quickSort(A,0,len(A))\n",
    "print(A)\n",
    "\n",
    "        "
   ]
  },
  {
   "cell_type": "markdown",
   "metadata": {},
   "source": [
    "## Worst Case (Big O) is n^2\n",
    "\n",
    "## Best Case (Big Omega) nlogn\n",
    "\n",
    "## Average Case (Big Theta) nlogn"
   ]
  }
 ],
 "metadata": {
  "kernelspec": {
   "display_name": "Python 2",
   "language": "python",
   "name": "python2"
  },
  "language_info": {
   "codemirror_mode": {
    "name": "ipython",
    "version": 2
   },
   "file_extension": ".py",
   "mimetype": "text/x-python",
   "name": "python",
   "nbconvert_exporter": "python",
   "pygments_lexer": "ipython2",
   "version": "2.7.14"
  }
 },
 "nbformat": 4,
 "nbformat_minor": 2
}
