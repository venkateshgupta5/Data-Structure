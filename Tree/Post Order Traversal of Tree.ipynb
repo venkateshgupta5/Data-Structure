{
 "cells": [
  {
   "cell_type": "code",
   "execution_count": 1,
   "metadata": {},
   "outputs": [
    {
     "name": "stdout",
     "output_type": "stream",
     "text": [
      "D\n",
      "F\n",
      "E\n",
      "B\n",
      "C\n",
      "A\n"
     ]
    }
   ],
   "source": [
    "class Node :\n",
    "    def __init__(self,key):\n",
    "        self.left = None\n",
    "        self.right = None\n",
    "        self.val = key\n",
    "        \n",
    "def postOrder(root):\n",
    "    if root.left is not None:\n",
    "        postOrder(root.left)\n",
    "    if root.right is not None:\n",
    "        postOrder(root.right)\n",
    "    print(root.val)\n",
    "    \n",
    "root = Node('A')\n",
    "root.left = Node('B')\n",
    "root.right = Node('C')\n",
    "#root.right.left = Node('D')\n",
    "#root.right.right = Node('E')\n",
    "root.left.left = Node('D')\n",
    "root.left.right = Node('E')\n",
    "root.left.right.left = Node('F')\n",
    "\n",
    "postOrder(root)\n",
    "    "
   ]
  }
 ],
 "metadata": {
  "kernelspec": {
   "display_name": "Python 2",
   "language": "python",
   "name": "python2"
  },
  "language_info": {
   "codemirror_mode": {
    "name": "ipython",
    "version": 2
   },
   "file_extension": ".py",
   "mimetype": "text/x-python",
   "name": "python",
   "nbconvert_exporter": "python",
   "pygments_lexer": "ipython2",
   "version": "2.7.14"
  }
 },
 "nbformat": 4,
 "nbformat_minor": 2
}
