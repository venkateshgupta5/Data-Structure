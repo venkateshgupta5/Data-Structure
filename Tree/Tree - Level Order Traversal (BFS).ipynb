{
 "cells": [
  {
   "cell_type": "markdown",
   "metadata": {},
   "source": [
    "# Tree"
   ]
  },
  {
   "cell_type": "code",
   "execution_count": 22,
   "metadata": {},
   "outputs": [],
   "source": [
    "class Node:\n",
    "    def __init__(self,key):\n",
    "        self.left = None\n",
    "        self.right = None\n",
    "        self.val = key\n",
    "        \n",
    "root = Node(1)\n",
    "root.left = Node(2)\n",
    "root.right = Node(3)\n",
    "root.left.left = Node(4)"
   ]
  },
  {
   "cell_type": "code",
   "execution_count": 20,
   "metadata": {},
   "outputs": [
    {
     "name": "stdout",
     "output_type": "stream",
     "text": [
      "1\n",
      "<__main__.Node instance at 0x7fd3df79db90>\n",
      "<__main__.Node instance at 0x7fd3dd817488>\n",
      "<__main__.Node instance at 0x7fd3d9088b90>\n",
      "None\n"
     ]
    }
   ],
   "source": [
    "print(root)\n",
    "print(root.left)\n",
    "print(root.right)\n",
    "print(root.left.left)\n",
    "print(root.left.right)"
   ]
  },
  {
   "cell_type": "code",
   "execution_count": 25,
   "metadata": {},
   "outputs": [
    {
     "name": "stdout",
     "output_type": "stream",
     "text": [
      "1\n",
      "2\n",
      "3\n",
      "4\n"
     ]
    }
   ],
   "source": [
    "print(root.val)\n",
    "print(root.left.val)\n",
    "print(root.right.val)\n",
    "print(root.left.left.val)\n",
    "#print(root.left.right.val)"
   ]
  },
  {
   "cell_type": "code",
   "execution_count": 5,
   "metadata": {},
   "outputs": [
    {
     "name": "stdout",
     "output_type": "stream",
     "text": [
      "A\n",
      "B\n",
      "C\n",
      "D\n",
      "E\n",
      "F\n"
     ]
    }
   ],
   "source": [
    "class Node:\n",
    "    def __init__(self,key):\n",
    "        self.left = None\n",
    "        self.right = None\n",
    "        self.val = key\n",
    "        \n",
    "def BFSorLevelorderTraversal(root):\n",
    "    if root is None:\n",
    "        return\n",
    "    \n",
    "    queue = []\n",
    "    queue.append(root)\n",
    "    \n",
    "    while(len(queue)>0):\n",
    "        print queue[0].val\n",
    "        node = queue.pop(0)  \n",
    "        if node.left is not None:\n",
    "            queue.append(node.left)\n",
    "            \n",
    "        if node.right is not None:\n",
    "            queue.append(node.right)\n",
    "            \n",
    "root = Node('A')\n",
    "root.left = Node('B')\n",
    "root.right = Node('C')\n",
    "root.left.left = Node('D')\n",
    "root.left.right = Node('E')\n",
    "root.left.right.left = Node('F')\n",
    "\n",
    "BFSorLevelorderTraversal(root)\n",
    "    "
   ]
  }
 ],
 "metadata": {
  "kernelspec": {
   "display_name": "Python 2",
   "language": "python",
   "name": "python2"
  },
  "language_info": {
   "codemirror_mode": {
    "name": "ipython",
    "version": 2
   },
   "file_extension": ".py",
   "mimetype": "text/x-python",
   "name": "python",
   "nbconvert_exporter": "python",
   "pygments_lexer": "ipython2",
   "version": "2.7.14"
  }
 },
 "nbformat": 4,
 "nbformat_minor": 2
}
