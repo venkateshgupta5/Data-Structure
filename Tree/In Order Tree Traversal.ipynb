{
 "cells": [
  {
   "cell_type": "markdown",
   "metadata": {},
   "source": [
    "# In Order"
   ]
  },
  {
   "cell_type": "code",
   "execution_count": 27,
   "metadata": {},
   "outputs": [
    {
     "name": "stdout",
     "output_type": "stream",
     "text": [
      "D\n",
      "B\n",
      "F\n",
      "E\n",
      "A\n",
      "D\n",
      "C\n",
      "E\n"
     ]
    }
   ],
   "source": [
    "class Node :\n",
    "    def __init__(self,key):\n",
    "        self.left = None\n",
    "        self.right = None\n",
    "        self.val = key\n",
    "        \n",
    "def inOrder(root):\n",
    "    #print(\"------------------\")\n",
    "    if root.left is not None:\n",
    "        #print(\"Current Root Value is\", root.val)\n",
    "        inOrder(root.left)\n",
    "    print root.val\n",
    "    if root.right is not None:\n",
    "        #print(\"Current Root Value is\", root.val)\n",
    "        inOrder(root.right)\n",
    "    \n",
    "root = Node('A')\n",
    "root.left = Node('B')\n",
    "root.right = Node('C')\n",
    "root.right.left = Node('D')\n",
    "root.right.right = Node('E')\n",
    "root.left.left = Node('D')\n",
    "root.left.right = Node('E')\n",
    "root.left.right.left = Node('F')\n",
    "\n",
    "inOrder(root)\n",
    "    "
   ]
  }
 ],
 "metadata": {
  "kernelspec": {
   "display_name": "Python 2",
   "language": "python",
   "name": "python2"
  },
  "language_info": {
   "codemirror_mode": {
    "name": "ipython",
    "version": 2
   },
   "file_extension": ".py",
   "mimetype": "text/x-python",
   "name": "python",
   "nbconvert_exporter": "python",
   "pygments_lexer": "ipython2",
   "version": "2.7.14"
  }
 },
 "nbformat": 4,
 "nbformat_minor": 2
}
