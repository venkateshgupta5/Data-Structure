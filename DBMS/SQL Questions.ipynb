{
 "cells": [
  {
   "cell_type": "markdown",
   "metadata": {},
   "source": [
    "# DELETE, DROP, TRUNCATE"
   ]
  },
  {
   "cell_type": "code",
   "execution_count": null,
   "metadata": {},
   "outputs": [],
   "source": [
    "Delete ------------->>> DML command\n",
    "Drop, Truncate ----->>> DDL command\n",
    "\n",
    "Delete (DML)  \n",
    "\n",
    "delete from tablename\n",
    "where <condition>        // deletes particular record.\n",
    "\n",
    "delete from tablename    // deletes entire rows. \n",
    "\n",
    "-------->>> Where clause can be used.\n",
    "-------->>> Commit and Rollback ----------->> Aloowed\n",
    "-------->>> Slower\n"
   ]
  },
  {
   "cell_type": "markdown",
   "metadata": {},
   "source": [
    "# Truncate"
   ]
  },
  {
   "cell_type": "code",
   "execution_count": null,
   "metadata": {},
   "outputs": [],
   "source": [
    "# Truncate (DDL)\n",
    "Truncate ------->> Delete entire rows of a table\n",
    "\n",
    "Truncate Table TableName;\n",
    "\n",
    "--------->> Where clause isn't used.\n",
    "--------->> No rollback and commit is allowed.\n",
    "--------->> Faster"
   ]
  },
  {
   "cell_type": "markdown",
   "metadata": {},
   "source": [
    "# Drop"
   ]
  },
  {
   "cell_type": "code",
   "execution_count": null,
   "metadata": {},
   "outputs": [],
   "source": [
    "# Drop (DDL)\n",
    "Drops the table.\n",
    "It drops the table structure, attributes, views, indexes and everything.\n",
    "\n",
    "Drop Table TableName\n"
   ]
  },
  {
   "cell_type": "markdown",
   "metadata": {},
   "source": [
    "# Union Vs Union All"
   ]
  },
  {
   "cell_type": "code",
   "execution_count": null,
   "metadata": {},
   "outputs": [],
   "source": [
    "The UNION operator is used to combine the result-set of two or more SELECT statements.\n",
    "\n",
    "Each SELECT statement within UNION must have the same number of columns\n",
    "The columns must also have similar data types\n",
    "The columns in each SELECT statement must also be in the same order\n"
   ]
  },
  {
   "cell_type": "code",
   "execution_count": null,
   "metadata": {},
   "outputs": [],
   "source": [
    "The UNION operator selects only distinct values by default. \n",
    "To allow duplicate values, use UNION ALL"
   ]
  },
  {
   "cell_type": "code",
   "execution_count": null,
   "metadata": {},
   "outputs": [],
   "source": [
    "Section7                     Section8\n",
    "Sub    Teacher              Subject     Faculty\n",
    "DBMS     Raj              DBMS           Rohan\n",
    "OS       Raj               Network       Amit\n",
    "Compiler Ankit             Compiler       Raj\n",
    "C++      Apoorva           C++           Apoorva\n",
    "\n"
   ]
  },
  {
   "cell_type": "code",
   "execution_count": null,
   "metadata": {},
   "outputs": [],
   "source": [
    "Select Sub, Teacher from Section7\n",
    "Union \n",
    "Select Subject, Teacher From Section8"
   ]
  },
  {
   "cell_type": "markdown",
   "metadata": {},
   "source": [
    "# Entity Integrity Vs Refrential Integrity"
   ]
  },
  {
   "cell_type": "code",
   "execution_count": null,
   "metadata": {},
   "outputs": [],
   "source": [
    "Entity Integrity ensures that any operation creating duplicate values or null value for P.K is rejected.\n",
    "\n",
    "Refrential Integrity ensures that the link between tables aren't broken."
   ]
  },
  {
   "cell_type": "markdown",
   "metadata": {},
   "source": [
    "# Primary Key Vs Unique Key"
   ]
  },
  {
   "cell_type": "code",
   "execution_count": null,
   "metadata": {},
   "outputs": [],
   "source": [
    "P.K                                U.K\n",
    "'No null value is accepted'      'At most 1 null is allowed'\n",
    "'Enusres entity intgrity'        'Ensures that every value in a column is uniuqe'\n",
    "'1 Primary Key'                  'More than 1 Unique Key'\n",
    "'creates clustered index'        'creates non clustred index by default'"
   ]
  },
  {
   "cell_type": "markdown",
   "metadata": {},
   "source": [
    "# Clustered Vs Non-Clustered Index"
   ]
  },
  {
   "cell_type": "code",
   "execution_count": null,
   "metadata": {},
   "outputs": [],
   "source": [
    "'Clustered Index'                                         'Non-Clustred Index'\n",
    "Determines how values are stored in table.         Is created at a different place.\n",
    "Query is faster.                                   Query -> slower as it always looks at the original table.\n",
    "A table can have only Clustered Index.             Can have multiple clustered index."
   ]
  },
  {
   "cell_type": "code",
   "execution_count": null,
   "metadata": {},
   "outputs": [],
   "source": [
    "## A clustered Index can have multiple columns within it.\n",
    "\n",
    "Create Clustered Index IX_TableName_IndexName\n",
    "on TableName (Gender DESC, Salary ASC)"
   ]
  },
  {
   "cell_type": "markdown",
   "metadata": {},
   "source": [
    "# Types of SQL statements"
   ]
  },
  {
   "cell_type": "code",
   "execution_count": null,
   "metadata": {},
   "outputs": [],
   "source": [
    "1. DDL (Definition)  ---> 'creates and holds entire structure of database object'\n",
    "2. DML (Manipualtion) ----> helps to insert, update, retrieve delete records in a database\n",
    "3. DCL (Control)   -----> 'manages visibilty of data and ensures data security when multiple users uses a db\n",
    "4. TCL (Transaction Control)  -------> manages transaction"
   ]
  },
  {
   "cell_type": "code",
   "execution_count": null,
   "metadata": {},
   "outputs": [],
   "source": [
    "DDL -----> CREATE, DROP, TRUNCATE, ALTER\n",
    "DML -----> INSERT, SELECT, UPDATE, DELETE\n",
    "DCL -----> GRANT, REVOKE\n",
    "TCL -----> ROLLBACK, COMMIT"
   ]
  },
  {
   "cell_type": "markdown",
   "metadata": {},
   "source": [
    "# Cursors in SQL"
   ]
  },
  {
   "cell_type": "code",
   "execution_count": null,
   "metadata": {},
   "outputs": [],
   "source": [
    "Cursors are pointer to rows. \n",
    "Helps in accessing a result on row by row basis."
   ]
  },
  {
   "cell_type": "markdown",
   "metadata": {},
   "source": [
    "# Triggers in SQL"
   ]
  },
  {
   "cell_type": "code",
   "execution_count": null,
   "metadata": {},
   "outputs": [],
   "source": [
    "Triggers in SQL are procedures\n",
    "that initiates a set of action\n",
    "when an even (Insert, Update, Delete) occurs."
   ]
  },
  {
   "cell_type": "markdown",
   "metadata": {},
   "source": [
    "# Stored Procedures"
   ]
  },
  {
   "cell_type": "code",
   "execution_count": null,
   "metadata": {},
   "outputs": [],
   "source": [
    "A stored procedure is a prepared SQL code that you can save, \n",
    "so the code can be reused over and over again.\n",
    "\n",
    "So if you have an SQL query that you write over and over again, \n",
    "save it as a stored procedure, and then just call it to execute it."
   ]
  }
 ],
 "metadata": {
  "kernelspec": {
   "display_name": "Python 2",
   "language": "python",
   "name": "python2"
  },
  "language_info": {
   "codemirror_mode": {
    "name": "ipython",
    "version": 2
   },
   "file_extension": ".py",
   "mimetype": "text/x-python",
   "name": "python",
   "nbconvert_exporter": "python",
   "pygments_lexer": "ipython2",
   "version": "2.7.14"
  }
 },
 "nbformat": 4,
 "nbformat_minor": 2
}
