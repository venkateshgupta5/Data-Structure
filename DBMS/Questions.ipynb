{
 "cells": [
  {
   "cell_type": "markdown",
   "metadata": {},
   "source": [
    "# Copying data from one table to another"
   ]
  },
  {
   "cell_type": "code",
   "execution_count": null,
   "metadata": {},
   "outputs": [],
   "source": [
    "SELECT column1, column2, column3, ...\n",
    "AS Name, Roll, Id, ......\n",
    "INTO newtable [IN externaldb]\n",
    "FROM oldtable\n",
    "WHERE condition;"
   ]
  },
  {
   "cell_type": "markdown",
   "metadata": {},
   "source": [
    "# Copy Just the schema of one table into another "
   ]
  },
  {
   "cell_type": "code",
   "execution_count": null,
   "metadata": {},
   "outputs": [],
   "source": [
    "SELECT * INTO newtable\n",
    "FROM oldtable\n",
    "WHERE 1 = 0;"
   ]
  },
  {
   "cell_type": "markdown",
   "metadata": {},
   "source": [
    "# INSERT INTO SELECT"
   ]
  },
  {
   "cell_type": "code",
   "execution_count": null,
   "metadata": {},
   "outputs": [],
   "source": [
    "INSERT INTO SELECT requires that data types in source and target tables match\n",
    "The existing records in the target table are unaffected\n"
   ]
  },
  {
   "cell_type": "code",
   "execution_count": null,
   "metadata": {},
   "outputs": [],
   "source": [
    "INSERT INTO table2 (column1, column2, column3, ...)\n",
    "SELECT column1, column2, column3, ...\n",
    "FROM table1\n",
    "WHERE condition;"
   ]
  },
  {
   "cell_type": "markdown",
   "metadata": {},
   "source": [
    "# COALESCE = IFNULL"
   ]
  },
  {
   "cell_type": "code",
   "execution_count": null,
   "metadata": {},
   "outputs": [],
   "source": [
    "SELECT ProductName, UnitPrice * (UnitsInStock + IFNULL(UnitsOnOrder, 0))\n",
    "FROM Products"
   ]
  },
  {
   "cell_type": "code",
   "execution_count": null,
   "metadata": {},
   "outputs": [],
   "source": [
    "SELECT ProductName, UnitPrice * (UnitsInStock + COALESCE(UnitsOnOrder, 0))\n",
    "FROM Products"
   ]
  },
  {
   "cell_type": "markdown",
   "metadata": {},
   "source": [
    "## CREATE DATABASE databasename;\n",
    "## DROP DATABASE databasename;\n",
    "## SHOW DATABASES;"
   ]
  },
  {
   "cell_type": "code",
   "execution_count": null,
   "metadata": {},
   "outputs": [],
   "source": [
    "ALTER TABLE table_name\n",
    "ADD column_name datatype;"
   ]
  },
  {
   "cell_type": "code",
   "execution_count": null,
   "metadata": {},
   "outputs": [],
   "source": [
    "ALTER TABLE table_name\n",
    "ALTER COLUMN column_name datatype;"
   ]
  },
  {
   "cell_type": "markdown",
   "metadata": {},
   "source": [
    "# SQL Constraints"
   ]
  },
  {
   "cell_type": "code",
   "execution_count": null,
   "metadata": {},
   "outputs": [],
   "source": [
    "SQL Constraints\n",
    "SQL constraints are used to specify rules for the data in a table.\n",
    "\n",
    "Constraints are used to limit the type of data that can go into a table. \n",
    "This ensures the accuracy and reliability of the data in the table. \n",
    "If there is any violation between the constraint and the data action, the action is aborted.\n",
    "\n",
    "Constraints can be column level or table level. Column level constraints apply to a column, \n",
    "and table level constraints apply to the whole table.\n",
    "\n",
    "The following constraints are commonly used in SQL:"
   ]
  },
  {
   "cell_type": "markdown",
   "metadata": {},
   "source": [
    "# Types of Constraint"
   ]
  },
  {
   "cell_type": "code",
   "execution_count": null,
   "metadata": {},
   "outputs": [],
   "source": [
    "The following constraints are commonly used in SQL:\n",
    "\n",
    "NOT NULL - Ensures that a column cannot have a NULL value\n",
    "UNIQUE - Ensures that all values in a column are different\n",
    "PRIMARY KEY - A combination of a NOT NULL and UNIQUE. Uniquely identifies each row in a table\n",
    "FOREIGN KEY - Uniquely identifies a row/record in another table\n",
    "CHECK - Ensures that all values in a column satisfies a specific condition\n",
    "DEFAULT - Sets a default value for a column when no value is specified\n",
    "INDEX - Used to create and retrieve data from the database very quickly\n",
    "\n"
   ]
  }
 ],
 "metadata": {
  "kernelspec": {
   "display_name": "Python 2",
   "language": "python",
   "name": "python2"
  },
  "language_info": {
   "codemirror_mode": {
    "name": "ipython",
    "version": 2
   },
   "file_extension": ".py",
   "mimetype": "text/x-python",
   "name": "python",
   "nbconvert_exporter": "python",
   "pygments_lexer": "ipython2",
   "version": "2.7.14"
  }
 },
 "nbformat": 4,
 "nbformat_minor": 2
}
