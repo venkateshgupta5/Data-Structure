{
 "cells": [
  {
   "cell_type": "markdown",
   "metadata": {},
   "source": [
    "# Table -- Customer"
   ]
  },
  {
   "cell_type": "markdown",
   "metadata": {},
   "source": [
    "create table customer\n",
    "( customerid int not null,\n",
    "name varchar(100),\n",
    "email varchar(100) )"
   ]
  },
  {
   "cell_type": "code",
   "execution_count": null,
   "metadata": {},
   "outputs": [],
   "source": [
    "insert into customer values (101,'Venky','venky@gmail.com'),\n",
    "(102,'Aviraj','aviraj@gmail.com'),\n",
    "(103,'Deepak','deepu@gmail.com')"
   ]
  },
  {
   "cell_type": "code",
   "execution_count": null,
   "metadata": {},
   "outputs": [],
   "source": [
    "insert into customer values (105,'Raj','raj@gmail.com'),\n",
    "(106,'Rohan','rohan@gmail.com')\n",
    "select * from customer"
   ]
  },
  {
   "cell_type": "code",
   "execution_count": null,
   "metadata": {},
   "outputs": [],
   "source": [
    "select * from customer "
   ]
  },
  {
   "cell_type": "markdown",
   "metadata": {},
   "source": [
    "customerid   name         email\n",
    "101         Venky    venky@gmail.com\n",
    "102         Aviraj    aviraj@gmail.com\n",
    "103         Deepak   deepu@gmail.com\n",
    "105          Raj       raj@gmail.com\n",
    "106         Rohan    rohan@gmail.com"
   ]
  },
  {
   "cell_type": "markdown",
   "metadata": {},
   "source": [
    "## Table -- OrderDetails"
   ]
  },
  {
   "cell_type": "code",
   "execution_count": null,
   "metadata": {},
   "outputs": [],
   "source": [
    "create table OrderDetails\n",
    "( \n",
    "orderid int not null,\n",
    "customerid int,\n",
    "item varchar(25) \n",
    ")"
   ]
  },
  {
   "cell_type": "code",
   "execution_count": null,
   "metadata": {},
   "outputs": [],
   "source": [
    "insert into OrderDetails values (2, 102, 'Laptop'),\n",
    "(4,103,'Printer'), (7,101,'Charger')\n",
    "insert into OrderDetails values (12, 114, 'Bag')"
   ]
  },
  {
   "cell_type": "code",
   "execution_count": null,
   "metadata": {},
   "outputs": [],
   "source": [
    "select * from OrderDetails"
   ]
  },
  {
   "cell_type": "code",
   "execution_count": null,
   "metadata": {},
   "outputs": [],
   "source": [
    "orderid    customerid    item\n",
    "2            102        Laptop\n",
    "4            103        Printer\n",
    "7            101        Charger\n",
    "12           114          Bag"
   ]
  },
  {
   "cell_type": "markdown",
   "metadata": {},
   "source": [
    "# Inner Join"
   ]
  },
  {
   "cell_type": "code",
   "execution_count": null,
   "metadata": {},
   "outputs": [],
   "source": [
    "Intersection between Two Tables"
   ]
  },
  {
   "cell_type": "code",
   "execution_count": null,
   "metadata": {},
   "outputs": [],
   "source": [
    "select * from customer\n",
    "inner join OrderDetails\n",
    "on customer.customerid = OrderDetails.customerid"
   ]
  },
  {
   "cell_type": "code",
   "execution_count": null,
   "metadata": {},
   "outputs": [],
   "source": [
    "customerid       name      email       orderid       customerid  item\n",
    "101             Venky    venky@gmail.com  7             101      Charger\n",
    "102            Aviraj   aviraj@gmail.com  2             102      Laptop\n",
    "103            Deepak   deepu@gmail.com   4             103      Printer\n"
   ]
  },
  {
   "cell_type": "code",
   "execution_count": null,
   "metadata": {},
   "outputs": [],
   "source": [
    "select customer.customerid, customer.name, customer.email,\n",
    "OrderDetails.orderid, OrderDetails.item\n",
    "from customer\n",
    "inner join OrderDetails\n",
    "on customer.customerid = OrderDetails.customerid"
   ]
  },
  {
   "cell_type": "code",
   "execution_count": null,
   "metadata": {},
   "outputs": [],
   "source": [
    "customerid     name    email               orderid      item\n",
    "101            Venky   venky@gmail.com        7        Charger\n",
    "102           Aviraj  aviraj@gmail.com        2         Laptop\n",
    "103           Deepak   deepu@gmail.com        4         Printer"
   ]
  },
  {
   "cell_type": "markdown",
   "metadata": {},
   "source": [
    "# Right Outer Join"
   ]
  },
  {
   "cell_type": "code",
   "execution_count": null,
   "metadata": {},
   "outputs": [],
   "source": [
    "Everything of the Right Table and it's match in the left table."
   ]
  },
  {
   "cell_type": "markdown",
   "metadata": {},
   "source": [
    "# Left Outer Join"
   ]
  },
  {
   "cell_type": "code",
   "execution_count": null,
   "metadata": {},
   "outputs": [],
   "source": [
    "Everything of the Left Table and it's match in the right table."
   ]
  },
  {
   "cell_type": "markdown",
   "metadata": {},
   "source": [
    "# Full Outer Join"
   ]
  },
  {
   "cell_type": "code",
   "execution_count": null,
   "metadata": {},
   "outputs": [],
   "source": [
    "Left + Right Table Both \n",
    "\n",
    "1    April     23     Printer    Patna\n",
    "2   May        25     Null       Delhi\n",
    "Null Null      Null   Bag        Noida\n"
   ]
  },
  {
   "cell_type": "markdown",
   "metadata": {},
   "source": [
    "# Cross Join"
   ]
  },
  {
   "cell_type": "code",
   "execution_count": null,
   "metadata": {},
   "outputs": [],
   "source": [
    "Student     StudentId\n",
    "Ram           23\n",
    "Shyam         45\n",
    "Raheem        98"
   ]
  },
  {
   "cell_type": "code",
   "execution_count": null,
   "metadata": {},
   "outputs": [],
   "source": [
    "Subject      SubCode\n",
    "Maths         4324\n",
    "English       3434"
   ]
  },
  {
   "cell_type": "code",
   "execution_count": null,
   "metadata": {},
   "outputs": [],
   "source": [
    "Cross Join\n",
    "Studnet     StudentId    Subject    SubCode\n",
    "Ram            23            Maths      4324\n",
    "Ram            23            English    3434\n",
    "Shyam          45            Maths      4324\n",
    "Shyam          45            English    3434\n",
    "Raheem         98            Maths      4324\n",
    "Raheem         98            English    3434"
   ]
  }
 ],
 "metadata": {
  "kernelspec": {
   "display_name": "Python 2",
   "language": "python",
   "name": "python2"
  },
  "language_info": {
   "codemirror_mode": {
    "name": "ipython",
    "version": 2
   },
   "file_extension": ".py",
   "mimetype": "text/x-python",
   "name": "python",
   "nbconvert_exporter": "python",
   "pygments_lexer": "ipython2",
   "version": "2.7.14"
  }
 },
 "nbformat": 4,
 "nbformat_minor": 2
}
