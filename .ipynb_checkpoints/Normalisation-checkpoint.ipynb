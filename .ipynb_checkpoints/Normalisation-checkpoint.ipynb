{
 "cells": [
  {
   "cell_type": "markdown",
   "metadata": {},
   "source": [
    "# Normalisation"
   ]
  },
  {
   "cell_type": "markdown",
   "metadata": {},
   "source": [
    "It's the process of organising data into a database to avoid :-\n",
    "\n",
    "1. Redundancy\n",
    "2. Updation Anamoly\n",
    "3. Insertion Anamoly\n",
    "4. Deletion Anamoly`"
   ]
  },
  {
   "cell_type": "code",
   "execution_count": null,
   "metadata": {},
   "outputs": [],
   "source": [
    "empid     name    dept    add\n",
    "\n",
    "1       A         d1      aa1\n",
    "1       A         d6      aa1\n",
    "2       C         d2      a2\n",
    "2       D         d2      a2\n",
    "3       E         d4      a4\n",
    "4       F         d2      a3"
   ]
  },
  {
   "cell_type": "code",
   "execution_count": null,
   "metadata": {},
   "outputs": [],
   "source": [
    "'Redudancy' :- emp A entry is made many a time. Just because he works in two dept.\n",
    "'Updation Anamoly' :- If you want to update the address of emp1, you need to do it at every place.\n",
    "'Insertion Anamoly' :- If you want to add some trainee, whose dept. isn't alloted.\n",
    "'Deletion Anamoly'"
   ]
  },
  {
   "cell_type": "markdown",
   "metadata": {},
   "source": [
    "# 1 NF"
   ]
  },
  {
   "cell_type": "code",
   "execution_count": null,
   "metadata": {},
   "outputs": [],
   "source": [
    "### Each coloum must have a single attribute.\n",
    "\n",
    "id   item   colour\n",
    "1     A      Green, Blue, Red\n",
    "2     B      Pink, Orange\n",
    "\n",
    "## Not in 1 NF. Colour column has multiple attribute.\n"
   ]
  },
  {
   "cell_type": "code",
   "execution_count": null,
   "metadata": {},
   "outputs": [],
   "source": [
    "id   item   colour\n",
    "1     A      Green\n",
    "1     A      Blue\n",
    "1     A      Red\n",
    "2     B      Pink\n",
    "2     B      Orange"
   ]
  },
  {
   "cell_type": "markdown",
   "metadata": {},
   "source": [
    "## A relation in a Relational Database is always and at least in 1NF form."
   ]
  },
  {
   "cell_type": "markdown",
   "metadata": {},
   "source": [
    "# 2NF"
   ]
  },
  {
   "cell_type": "code",
   "execution_count": null,
   "metadata": {},
   "outputs": [],
   "source": [
    "### No partial dependency. \n",
    "### No non prime attribute should depend upon any proper subset of candidate key."
   ]
  },
  {
   "cell_type": "code",
   "execution_count": null,
   "metadata": {},
   "outputs": [],
   "source": [
    "# Partial Dependency \n",
    "\n",
    "A   ---------------------------->>> B\n",
    "Prime                       Non-Prime Attribute\n",
    "But not candidate key\n",
    "##When a non-prime attribute depends upon a part of candidate Key\n",
    "##Rather than the entire candidate key it is called as Partial Dependency."
   ]
  },
  {
   "cell_type": "code",
   "execution_count": null,
   "metadata": {},
   "outputs": [],
   "source": [
    "# Candidate Key :- \n",
    "Studentno      StudentName       StudentPhone      Class\n",
    "\n",
    "The minimal set of attribute that can uniquely identity a tuple -----> Candidate Key \n",
    "\n",
    "\n",
    "Studentno + StudentName   --------> Class\n",
    "Studnetno + StudnetPhone  --------> StudentName\n",
    "Studentphone + class      --------> Student Name\n",
    "\n",
    "These can also identify a tupple. \n",
    "\n",
    "# Prime/Key Attribute :- \n",
    "Attributes that are a part of 'any' candidate key is called as Prime Attribute.\n",
    "\n",
    "#Non-Prime Attribute\n",
    "Attributes not a part of 'any' candidate key is called as Non-Prime Attribute.\n",
    "\n"
   ]
  },
  {
   "cell_type": "code",
   "execution_count": null,
   "metadata": {},
   "outputs": [],
   "source": [
    "CustomerId     StoreId     Location\n",
    "1               3           Patna\n",
    "1               3           Patna\n",
    "2               4           Noida\n",
    "4               11          Agra\n",
    "5               8           Delhi\n",
    "3               8           Delhi"
   ]
  },
  {
   "cell_type": "markdown",
   "metadata": {},
   "source": [
    "Here, CustomerId + StoreId is determining Location.\n",
    "[CustomerID + StoreId] ----------------------->>>>>>> Candidate Key\n",
    "\n",
    "Prime Attributes :- CustomerId, StoreId\n",
    "Non Prime Attributes :- Location"
   ]
  },
  {
   "cell_type": "markdown",
   "metadata": {},
   "source": [
    "## Non Prime Attribute[Location] is dependent on a subset of Prime Attribute[StoreId]"
   ]
  },
  {
   "cell_type": "code",
   "execution_count": null,
   "metadata": {},
   "outputs": [],
   "source": [
    "Solution :- \n",
    "    \n",
    "    \n",
    "CustomerId     StoreId              StoreId       Location\n",
    "1               3                      3             Patna         \n",
    "1               3                      4             Nodia   \n",
    "2               4                      11            Agra\n",
    "4               11                     8             Delhi\n",
    "5               8           \n",
    "3               8           "
   ]
  },
  {
   "cell_type": "markdown",
   "metadata": {},
   "source": [
    "## If a Relation has only singleton candidate keys( i.e. every candidate key consists of only 1 attribute), \n",
    "## then the Relation is always in 2NF( because no Partial functional dependency possible)."
   ]
  },
  {
   "cell_type": "markdown",
   "metadata": {},
   "source": [
    "# 3NF"
   ]
  },
  {
   "cell_type": "markdown",
   "metadata": {},
   "source": [
    "There should be no functional transitive dependency.\n",
    "\n",
    "X -----> Y\n",
    "Either \n",
    "X should be super-key.\n",
    "Y should be a prime attribute."
   ]
  },
  {
   "cell_type": "markdown",
   "metadata": {},
   "source": [
    "# Super Key\n",
    "Candidate Key plus any number of other key is called as superkey.\n",
    "\n",
    "A candidate key is super key.\n",
    "\n",
    "But vice-versa is not true."
   ]
  },
  {
   "cell_type": "code",
   "execution_count": null,
   "metadata": {},
   "outputs": [],
   "source": [
    "BookId    Genre Id     GenreType      Price\n",
    "1           34            Fiction         232\n",
    "1           65            Political       878\n",
    "2           43            Sports          322\n",
    "\n",
    "BookId is determining GenreId which is in turn determining GenreType.\n",
    "\n",
    "BookId------>GenreId------>GenreType\n",
    "[BookId + GenreId] ----------------->>>>>> GenreType\n",
    "\n",
    "## [BookId + GenreId] ------------>>>>>>>>>> GenreType\n",
    "Neither X[Book Id] is super Key.  [C.K + plus any number(even 0) of key is SuperKey]\n",
    "Nor Y[GenreType] is Prime Attribute."
   ]
  },
  {
   "cell_type": "code",
   "execution_count": null,
   "metadata": {},
   "outputs": [],
   "source": [
    "BookId     GenreId    Price             GenreId        GenreType\n",
    "1           34      232                 34              Fiction\n",
    "2           43      322                 43              Sports"
   ]
  },
  {
   "cell_type": "markdown",
   "metadata": {},
   "source": [
    "## If all attributes of relation are prime attribute, then the relation is always in 3NF."
   ]
  },
  {
   "cell_type": "markdown",
   "metadata": {},
   "source": [
    "# BCNF (3.5 NF)"
   ]
  },
  {
   "cell_type": "code",
   "execution_count": null,
   "metadata": {},
   "outputs": [],
   "source": [
    "Student -------->> Course ------------>> Teacher\n",
    "X                   DBMS                  Amit\n",
    "X                   WEb                   Ram\n",
    "Y                   DBMS                  Apporva\n",
    "\n",
    "Teacher -----> Course\n",
    "Teacher is determining course. and Teacher is not superkey.\n",
    "\n",
    "[Student+Course] --------->> Teacher"
   ]
  },
  {
   "cell_type": "code",
   "execution_count": null,
   "metadata": {},
   "outputs": [],
   "source": [
    "For X---------->>>> Y\n",
    "\n",
    "X should strictly be superkey.\n"
   ]
  },
  {
   "cell_type": "code",
   "execution_count": null,
   "metadata": {},
   "outputs": [],
   "source": [
    "Student       Course            Course         Teacher\n",
    "X              DBMS             DBMS            Amit\n",
    "X              Web              Web             Ram\n",
    "Y              DBMS             DBMS            Apoorva"
   ]
  },
  {
   "cell_type": "markdown",
   "metadata": {},
   "source": [
    "## Every Binary Relation ( a Relation with only 2 attributes ) is always in BCNF."
   ]
  },
  {
   "cell_type": "markdown",
   "metadata": {},
   "source": [
    "#### BCNF is free from redundancy."
   ]
  },
  {
   "cell_type": "markdown",
   "metadata": {},
   "source": [
    "# 4NF"
   ]
  },
  {
   "cell_type": "markdown",
   "metadata": {},
   "source": [
    "## No non-trivial multi valued dependencies."
   ]
  },
  {
   "cell_type": "code",
   "execution_count": null,
   "metadata": {},
   "outputs": [],
   "source": [
    "Stundent          Majors           Hobby\n",
    "1                  CSE              Cricket\n",
    "1                  CSE              Football\n",
    "1                  CSE              Singing\n",
    "4                  ECE              Cricket\n",
    "4                  BVCD             Cricket\n",
    "\n",
    "Student is determining Majors as well as Hobby."
   ]
  },
  {
   "cell_type": "code",
   "execution_count": null,
   "metadata": {},
   "outputs": [],
   "source": [
    "Student            Majors                Student      Hobby"
   ]
  },
  {
   "cell_type": "markdown",
   "metadata": {},
   "source": [
    "# 5 NF"
   ]
  },
  {
   "cell_type": "code",
   "execution_count": null,
   "metadata": {},
   "outputs": [],
   "source": [
    "1. Break the tables further into multiple tables.\n",
    "\n",
    "2. When composed back :-\n",
    "    No data is created\n",
    "    No data is lost\n",
    "    \n",
    "Seller      Company         Product\n",
    "Aman         Coca            ThumsUp\n",
    "Aditya       Unilever        Ponds\n",
    "Aditya       Unilever        Lakme\n",
    "Abhinav     P&G              Vicks\n",
    "Abhinav     Pepsico          Pepsi\n",
    "\n"
   ]
  },
  {
   "cell_type": "code",
   "execution_count": null,
   "metadata": {},
   "outputs": [],
   "source": [
    "Seller      Company         Seller         Product\n",
    "Aman         Coca            Aman          ThumsUp\n",
    "Aditya       Unilever        Aditya        Ponds\n",
    "Aditya       Unilever        Aditya        Lakme\n",
    "Abhinav     P&G              Abhinav       Vicks\n",
    "Abhinav     Pepsico          Abhinav       Pepsi"
   ]
  }
 ],
 "metadata": {
  "kernelspec": {
   "display_name": "Python 2",
   "language": "python",
   "name": "python2"
  },
  "language_info": {
   "codemirror_mode": {
    "name": "ipython",
    "version": 2
   },
   "file_extension": ".py",
   "mimetype": "text/x-python",
   "name": "python",
   "nbconvert_exporter": "python",
   "pygments_lexer": "ipython2",
   "version": "2.7.14"
  }
 },
 "nbformat": 4,
 "nbformat_minor": 2
}
