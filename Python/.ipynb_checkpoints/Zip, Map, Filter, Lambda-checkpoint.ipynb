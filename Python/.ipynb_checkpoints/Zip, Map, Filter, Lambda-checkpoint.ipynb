{
 "cells": [
  {
   "cell_type": "markdown",
   "metadata": {},
   "source": [
    "# Zip"
   ]
  },
  {
   "cell_type": "code",
   "execution_count": null,
   "metadata": {},
   "outputs": [],
   "source": [
    "Iterates over multiple iterables in parallel\n",
    "Returns tuples containing ith element of each iterable\n",
    "Returned tuple elements are in order of the iterables"
   ]
  },
  {
   "cell_type": "code",
   "execution_count": 4,
   "metadata": {},
   "outputs": [
    {
     "name": "stdout",
     "output_type": "stream",
     "text": [
      "(1, 'Rohit')\n",
      "(2, 'Mohit')\n",
      "(3, 'Man')\n",
      "(4, 'Amna')\n"
     ]
    }
   ],
   "source": [
    "l1 = (1,2,3,4)\n",
    "l2 = ['Rohit', 'Mohit', 'Man', 'Amna','Kaif']\n",
    "for x in zip(l1,l2):\n",
    "    print(x)"
   ]
  },
  {
   "cell_type": "code",
   "execution_count": null,
   "metadata": {},
   "outputs": [],
   "source": [
    "zip returns an iterable\n",
    "Returned list contains tuples\n",
    "Tuple elements are in order of the input iterables\n",
    "Length of each tuple is equal to the number of input iterables\n",
    "Returned iterable is of length of the shortest input iterables"
   ]
  },
  {
   "cell_type": "markdown",
   "metadata": {},
   "source": [
    "# Zip Comprehension"
   ]
  },
  {
   "cell_type": "code",
   "execution_count": 29,
   "metadata": {},
   "outputs": [
    {
     "name": "stdout",
     "output_type": "stream",
     "text": [
      "(1, 'Rohit')\n",
      "(2, 'Mohit')\n",
      "(3, 'Man')\n",
      "(4, 'Amna')\n"
     ]
    }
   ],
   "source": [
    "l1 = [1,2,3,4]\n",
    "l2 = ['Rohit', 'Mohit', 'Man', 'Amna','Kaif']\n",
    "for roll, name in zip(l1,l2):\n",
    "    print(roll, name)"
   ]
  },
  {
   "cell_type": "markdown",
   "metadata": {},
   "source": [
    "# Map"
   ]
  },
  {
   "cell_type": "code",
   "execution_count": 27,
   "metadata": {},
   "outputs": [
    {
     "name": "stdout",
     "output_type": "stream",
     "text": [
      "[6, 8, 10]\n"
     ]
    }
   ],
   "source": [
    "def sum(a,b):\n",
    "     return a+b\n",
    "L1=[1,2,3]\n",
    "L2=[5,6,7]\n",
    "L=[ x for x in map( sum, L1, L2 ) ]\n",
    "\n",
    "print(L)"
   ]
  },
  {
   "cell_type": "code",
   "execution_count": null,
   "metadata": {},
   "outputs": [],
   "source": [
    "Applies a function to every element of input Iterable(s)\n",
    "\n",
    "Results an iterable \n",
    "\n",
    "Function should take same number of arguments as the number of input iterable(s)"
   ]
  },
  {
   "cell_type": "code",
   "execution_count": null,
   "metadata": {},
   "outputs": [],
   "source": [
    "map runs for the longest iterable\n",
    "If any iterable finishes earlier, None is used as the value."
   ]
  },
  {
   "cell_type": "markdown",
   "metadata": {},
   "source": [
    "# Filter"
   ]
  },
  {
   "cell_type": "code",
   "execution_count": null,
   "metadata": {},
   "outputs": [],
   "source": [
    "Returns an iterable\n",
    "Takes an expression returning True or False\n",
    "Applies this expression to input iterable\n",
    "Selects elements that return True with the expression"
   ]
  },
  {
   "cell_type": "code",
   "execution_count": 30,
   "metadata": {},
   "outputs": [
    {
     "name": "stdout",
     "output_type": "stream",
     "text": [
      "[2, 8, 6]\n"
     ]
    }
   ],
   "source": [
    "def even(a):\n",
    "    if a%2==0: return True\n",
    "    else: return False\n",
    "\n",
    "L1=[1,2,3,8,6,11,7]\n",
    "L=[ x for x in filter( even, L1) ]     # even is the function name\n",
    "print( L )    # selects even values from a list"
   ]
  },
  {
   "cell_type": "markdown",
   "metadata": {},
   "source": [
    "# Lambda"
   ]
  },
  {
   "cell_type": "code",
   "execution_count": null,
   "metadata": {},
   "outputs": [],
   "source": [
    "Similar to C inline function\n",
    "Called anonymous function in Python"
   ]
  },
  {
   "cell_type": "code",
   "execution_count": null,
   "metadata": {},
   "outputs": [],
   "source": [
    "lambda  x : x * 5\n",
    "This expression takes one argument x\n",
    "Result of the expression is x * 5\n",
    "So if we call this expression as follows:\n",
    "( lambda x : x * 5 ) ( 7 ) \n",
    "This would result in 35\n",
    "\n",
    "So the lambda expression is exhibiting properties of a function"
   ]
  },
  {
   "cell_type": "code",
   "execution_count": 32,
   "metadata": {},
   "outputs": [
    {
     "name": "stdout",
     "output_type": "stream",
     "text": [
      "25\n",
      "27\n"
     ]
    }
   ],
   "source": [
    "square=lambda x : x * x\n",
    "cube=lambda x : x * x * x\n",
    "\n",
    "print( square(5) )     # prints 25\n",
    "print( cube(3) )        # prints 27"
   ]
  },
  {
   "cell_type": "code",
   "execution_count": null,
   "metadata": {},
   "outputs": [],
   "source": [
    "We could compact our code by replacing the map function with a lambda, \n",
    "thus eliminating the need of the sum function\n",
    "\n",
    "L1=[1,2,3]\n",
    "L2=[5,6,7]  \n",
    "L=[ x for x in map( lambda a,b : a+b, L1 , L2 ) ]\n",
    "print( L )\n",
    "\n",
    "This also reduces the overhead of function calls happening earlier\n"
   ]
  },
  {
   "cell_type": "code",
   "execution_count": 33,
   "metadata": {},
   "outputs": [
    {
     "name": "stdout",
     "output_type": "stream",
     "text": [
      "[6, 8, 10]\n"
     ]
    }
   ],
   "source": [
    "L1=[1,2,3]\n",
    "L2=[5,6,7]  \n",
    "L=[ x for x in map( lambda a,b : a+b, L1 , L2 ) ]\n",
    "print( L )"
   ]
  }
 ],
 "metadata": {
  "kernelspec": {
   "display_name": "Python 2",
   "language": "python",
   "name": "python2"
  },
  "language_info": {
   "codemirror_mode": {
    "name": "ipython",
    "version": 2
   },
   "file_extension": ".py",
   "mimetype": "text/x-python",
   "name": "python",
   "nbconvert_exporter": "python",
   "pygments_lexer": "ipython2",
   "version": "2.7.14"
  }
 },
 "nbformat": 4,
 "nbformat_minor": 2
}
