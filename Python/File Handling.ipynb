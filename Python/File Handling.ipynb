{
 "cells": [
  {
   "cell_type": "code",
   "execution_count": 4,
   "metadata": {},
   "outputs": [],
   "source": [
    "fo = open('/home/venkat/Desktop/Data Structure/Python/test.txt', 'r')"
   ]
  },
  {
   "cell_type": "code",
   "execution_count": null,
   "metadata": {},
   "outputs": [],
   "source": [
    "File opening modes:\n",
    "r : read mode\tw : write mode\ta : append mode\n",
    "            \n",
    "\n",
    "fo=open(“abc.txt”, “r”)    # opens in read mode\n",
    "w and a modes would allow writing to the file\n",
    "in w mode, an existing file would be truncated\n",
    "in a mode, the writing would happen at end of an existing file\n",
    "a mode would create the file if it was not existing"
   ]
  },
  {
   "cell_type": "markdown",
   "metadata": {},
   "source": [
    "# Binary Vs Text File"
   ]
  },
  {
   "cell_type": "code",
   "execution_count": null,
   "metadata": {},
   "outputs": [],
   "source": [
    "A binary file is a file stored in binary format. \n",
    "A binary file is computer-readable but not human-readable. \n",
    "All executable programs are stored in binary files.\n",
    "\n",
    "text files are stored in a form (usually ASCII) that is human-readable."
   ]
  },
  {
   "cell_type": "code",
   "execution_count": null,
   "metadata": {},
   "outputs": [],
   "source": [
    "fo.write\n",
    "fo.writeLines"
   ]
  },
  {
   "cell_type": "markdown",
   "metadata": {},
   "source": [
    "# Writing into a file"
   ]
  },
  {
   "cell_type": "code",
   "execution_count": 8,
   "metadata": {},
   "outputs": [],
   "source": [
    "fo = open('/home/venkat/Desktop/Data Structure/Python/test.txt', 'a')\n",
    "fo.write('Hey, how are you?')\n",
    "fo.writelines(' I am waiting for you!')\n",
    "fo.writelines('I am here. Would be waiting.')"
   ]
  },
  {
   "cell_type": "markdown",
   "metadata": {},
   "source": [
    "fo.tell()                  # gives current offset\n",
    "fo.seek( offset )    # Go to offset ( starting from beginning )\n",
    "fo.seek(offset,0)   # same \n",
    "fo.seek(offset, 1 )  # Go to offset, from current location\n",
    "fo.seek(offset,2 )   # Go to offset from end\n"
   ]
  },
  {
   "cell_type": "markdown",
   "metadata": {},
   "source": [
    "# Reading a file"
   ]
  },
  {
   "cell_type": "code",
   "execution_count": 34,
   "metadata": {},
   "outputs": [
    {
     "name": "stdout",
     "output_type": "stream",
     "text": [
      "my name is venkatesh. how are you?Hey, how are you? I am waiting for you!I am here. Would be waiting.\n",
      "\n",
      "After reading the file, offset is at -------->>  101\n",
      "\n",
      "Take offset at beginning\n",
      "my name is venkatesh. how are you?Hey, how are you? I am waiting for you!I am here. Would be waiting.\n",
      "\n",
      "Take offset at 21 from beginning\n",
      "how are you?Hey, how are you? I am waiting for you!I am here. Would be waiting.\n",
      "\n",
      "Take offset from beginning current location\n",
      "\n"
     ]
    }
   ],
   "source": [
    "fo = open('/home/venkat/Desktop/Data Structure/Python/test.txt', 'r')\n",
    "print fo.read()\n",
    "\n",
    "print \"\\nAfter reading the file, offset is at -------->> \",\n",
    "print fo.tell()\n",
    "\n",
    "print \"\\nTake offset at beginning\"\n",
    "fo.seek (0)\n",
    "print fo.read()\n",
    "\n",
    "print \"\\nTake offset at 21 from beginning\"\n",
    "fo.seek (22,0)\n",
    "print fo.read()\n",
    "\n",
    "print \"\\nTake offset from beginning current location\"\n",
    "fo.seek (35,1)\n",
    "print fo.read()\n"
   ]
  },
  {
   "cell_type": "markdown",
   "metadata": {},
   "source": [
    "# Read a text file and convert it to upper case and write to a second file.\n"
   ]
  },
  {
   "cell_type": "code",
   "execution_count": 20,
   "metadata": {},
   "outputs": [],
   "source": [
    "fo = open('/home/venkat/Desktop/Data Structure/Python/test.txt', 'r')\n",
    "for x in fo.read():\n",
    "    y = x.upper()\n",
    "    fo1 = open('/home/venkat/Desktop/Data Structure/Python/write.txt', 'a')\n",
    "    fo1.write(y)"
   ]
  },
  {
   "cell_type": "code",
   "execution_count": 22,
   "metadata": {},
   "outputs": [],
   "source": [
    "with open('/home/venkat/Desktop/Data Structure/Python/test.txt', 'r') as inp:\n",
    "    y = inp.read().upper()\n",
    "with open('/home/venkat/Desktop/Data Structure/Python/write.txt', 'a') as out:\n",
    "    out.write(y)"
   ]
  }
 ],
 "metadata": {
  "kernelspec": {
   "display_name": "Python 2",
   "language": "python",
   "name": "python2"
  },
  "language_info": {
   "codemirror_mode": {
    "name": "ipython",
    "version": 2
   },
   "file_extension": ".py",
   "mimetype": "text/x-python",
   "name": "python",
   "nbconvert_exporter": "python",
   "pygments_lexer": "ipython2",
   "version": "2.7.14"
  }
 },
 "nbformat": 4,
 "nbformat_minor": 2
}
